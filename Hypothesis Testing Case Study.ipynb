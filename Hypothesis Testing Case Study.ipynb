{
 "cells": [
  {
   "cell_type": "markdown",
   "id": "46b96317-c719-4602-8bd6-238bc1f99c58",
   "metadata": {},
   "source": [
    "# Importing Libraries"
   ]
  },
  {
   "cell_type": "code",
   "execution_count": 28,
   "id": "35c06df1-4ace-4046-b80a-facf87f71fff",
   "metadata": {},
   "outputs": [],
   "source": [
    "import numpy as np\n",
    "import pandas as pd\n",
    "import matplotlib.pyplot as plt\n",
    "import seaborn as sns\n",
    "import scipy.stats as stats\n",
    "import warnings\n",
    "warnings.filterwarnings('ignore')"
   ]
  },
  {
   "cell_type": "code",
   "execution_count": 6,
   "id": "def06052-eb6e-4e9c-a547-89eec277748b",
   "metadata": {},
   "outputs": [],
   "source": [
    "loansdata=pd.read_csv('LoansData.csv')"
   ]
  },
  {
   "cell_type": "code",
   "execution_count": 7,
   "id": "56be8ff3-75b3-41f2-bb7c-b02c42cf368c",
   "metadata": {},
   "outputs": [
    {
     "data": {
      "text/html": [
       "<div>\n",
       "<style scoped>\n",
       "    .dataframe tbody tr th:only-of-type {\n",
       "        vertical-align: middle;\n",
       "    }\n",
       "\n",
       "    .dataframe tbody tr th {\n",
       "        vertical-align: top;\n",
       "    }\n",
       "\n",
       "    .dataframe thead th {\n",
       "        text-align: right;\n",
       "    }\n",
       "</style>\n",
       "<table border=\"1\" class=\"dataframe\">\n",
       "  <thead>\n",
       "    <tr style=\"text-align: right;\">\n",
       "      <th></th>\n",
       "      <th>Amount.Requested</th>\n",
       "      <th>Amount.Funded.By.Investors</th>\n",
       "      <th>Interest.Rate</th>\n",
       "      <th>Loan.Length</th>\n",
       "      <th>Loan.Purpose</th>\n",
       "      <th>Debt.To.Income.Ratio</th>\n",
       "      <th>State</th>\n",
       "      <th>Home.Ownership</th>\n",
       "      <th>Monthly.Income</th>\n",
       "      <th>FICO.Range</th>\n",
       "      <th>Open.CREDIT.Lines</th>\n",
       "      <th>Revolving.CREDIT.Balance</th>\n",
       "      <th>Inquiries.in.the.Last.6.Months</th>\n",
       "      <th>Employment.Length</th>\n",
       "    </tr>\n",
       "  </thead>\n",
       "  <tbody>\n",
       "    <tr>\n",
       "      <th>0</th>\n",
       "      <td>20000.0</td>\n",
       "      <td>20000.0</td>\n",
       "      <td>8.90%</td>\n",
       "      <td>36 months</td>\n",
       "      <td>debt_consolidation</td>\n",
       "      <td>14.90%</td>\n",
       "      <td>SC</td>\n",
       "      <td>MORTGAGE</td>\n",
       "      <td>6541.67</td>\n",
       "      <td>735-739</td>\n",
       "      <td>14.0</td>\n",
       "      <td>14272.0</td>\n",
       "      <td>2.0</td>\n",
       "      <td>&lt; 1 year</td>\n",
       "    </tr>\n",
       "    <tr>\n",
       "      <th>1</th>\n",
       "      <td>19200.0</td>\n",
       "      <td>19200.0</td>\n",
       "      <td>12.12%</td>\n",
       "      <td>36 months</td>\n",
       "      <td>debt_consolidation</td>\n",
       "      <td>28.36%</td>\n",
       "      <td>TX</td>\n",
       "      <td>MORTGAGE</td>\n",
       "      <td>4583.33</td>\n",
       "      <td>715-719</td>\n",
       "      <td>12.0</td>\n",
       "      <td>11140.0</td>\n",
       "      <td>1.0</td>\n",
       "      <td>2 years</td>\n",
       "    </tr>\n",
       "    <tr>\n",
       "      <th>2</th>\n",
       "      <td>35000.0</td>\n",
       "      <td>35000.0</td>\n",
       "      <td>21.98%</td>\n",
       "      <td>60 months</td>\n",
       "      <td>debt_consolidation</td>\n",
       "      <td>23.81%</td>\n",
       "      <td>CA</td>\n",
       "      <td>MORTGAGE</td>\n",
       "      <td>11500.00</td>\n",
       "      <td>690-694</td>\n",
       "      <td>14.0</td>\n",
       "      <td>21977.0</td>\n",
       "      <td>1.0</td>\n",
       "      <td>2 years</td>\n",
       "    </tr>\n",
       "    <tr>\n",
       "      <th>3</th>\n",
       "      <td>10000.0</td>\n",
       "      <td>9975.0</td>\n",
       "      <td>9.99%</td>\n",
       "      <td>36 months</td>\n",
       "      <td>debt_consolidation</td>\n",
       "      <td>14.30%</td>\n",
       "      <td>KS</td>\n",
       "      <td>MORTGAGE</td>\n",
       "      <td>3833.33</td>\n",
       "      <td>695-699</td>\n",
       "      <td>10.0</td>\n",
       "      <td>9346.0</td>\n",
       "      <td>0.0</td>\n",
       "      <td>5 years</td>\n",
       "    </tr>\n",
       "    <tr>\n",
       "      <th>4</th>\n",
       "      <td>12000.0</td>\n",
       "      <td>12000.0</td>\n",
       "      <td>11.71%</td>\n",
       "      <td>36 months</td>\n",
       "      <td>credit_card</td>\n",
       "      <td>18.78%</td>\n",
       "      <td>NJ</td>\n",
       "      <td>RENT</td>\n",
       "      <td>3195.00</td>\n",
       "      <td>695-699</td>\n",
       "      <td>11.0</td>\n",
       "      <td>14469.0</td>\n",
       "      <td>0.0</td>\n",
       "      <td>9 years</td>\n",
       "    </tr>\n",
       "  </tbody>\n",
       "</table>\n",
       "</div>"
      ],
      "text/plain": [
       "   Amount.Requested  Amount.Funded.By.Investors Interest.Rate Loan.Length  \\\n",
       "0           20000.0                     20000.0         8.90%   36 months   \n",
       "1           19200.0                     19200.0        12.12%   36 months   \n",
       "2           35000.0                     35000.0        21.98%   60 months   \n",
       "3           10000.0                      9975.0         9.99%   36 months   \n",
       "4           12000.0                     12000.0        11.71%   36 months   \n",
       "\n",
       "         Loan.Purpose Debt.To.Income.Ratio State Home.Ownership  \\\n",
       "0  debt_consolidation               14.90%    SC       MORTGAGE   \n",
       "1  debt_consolidation               28.36%    TX       MORTGAGE   \n",
       "2  debt_consolidation               23.81%    CA       MORTGAGE   \n",
       "3  debt_consolidation               14.30%    KS       MORTGAGE   \n",
       "4         credit_card               18.78%    NJ           RENT   \n",
       "\n",
       "   Monthly.Income FICO.Range  Open.CREDIT.Lines  Revolving.CREDIT.Balance  \\\n",
       "0         6541.67    735-739               14.0                   14272.0   \n",
       "1         4583.33    715-719               12.0                   11140.0   \n",
       "2        11500.00    690-694               14.0                   21977.0   \n",
       "3         3833.33    695-699               10.0                    9346.0   \n",
       "4         3195.00    695-699               11.0                   14469.0   \n",
       "\n",
       "   Inquiries.in.the.Last.6.Months Employment.Length  \n",
       "0                             2.0          < 1 year  \n",
       "1                             1.0           2 years  \n",
       "2                             1.0           2 years  \n",
       "3                             0.0           5 years  \n",
       "4                             0.0           9 years  "
      ]
     },
     "execution_count": 7,
     "metadata": {},
     "output_type": "execute_result"
    }
   ],
   "source": [
    "loansdata.head()"
   ]
  },
  {
   "cell_type": "code",
   "execution_count": 8,
   "id": "bc2d5046-f252-48bc-ab3d-8ca9b8496cd3",
   "metadata": {},
   "outputs": [
    {
     "data": {
      "text/html": [
       "<div>\n",
       "<style scoped>\n",
       "    .dataframe tbody tr th:only-of-type {\n",
       "        vertical-align: middle;\n",
       "    }\n",
       "\n",
       "    .dataframe tbody tr th {\n",
       "        vertical-align: top;\n",
       "    }\n",
       "\n",
       "    .dataframe thead th {\n",
       "        text-align: right;\n",
       "    }\n",
       "</style>\n",
       "<table border=\"1\" class=\"dataframe\">\n",
       "  <thead>\n",
       "    <tr style=\"text-align: right;\">\n",
       "      <th></th>\n",
       "      <th>Amount.Requested</th>\n",
       "      <th>Amount.Funded.By.Investors</th>\n",
       "      <th>Monthly.Income</th>\n",
       "      <th>Open.CREDIT.Lines</th>\n",
       "      <th>Revolving.CREDIT.Balance</th>\n",
       "      <th>Inquiries.in.the.Last.6.Months</th>\n",
       "    </tr>\n",
       "  </thead>\n",
       "  <tbody>\n",
       "    <tr>\n",
       "      <th>count</th>\n",
       "      <td>2499.000000</td>\n",
       "      <td>2499.000000</td>\n",
       "      <td>2499.000000</td>\n",
       "      <td>2497.000000</td>\n",
       "      <td>2497.000000</td>\n",
       "      <td>2497.000000</td>\n",
       "    </tr>\n",
       "    <tr>\n",
       "      <th>mean</th>\n",
       "      <td>12405.462185</td>\n",
       "      <td>12002.374186</td>\n",
       "      <td>5688.931321</td>\n",
       "      <td>10.072887</td>\n",
       "      <td>15223.184622</td>\n",
       "      <td>0.906688</td>\n",
       "    </tr>\n",
       "    <tr>\n",
       "      <th>std</th>\n",
       "      <td>7802.933666</td>\n",
       "      <td>7746.767348</td>\n",
       "      <td>3963.118185</td>\n",
       "      <td>4.507416</td>\n",
       "      <td>18281.015258</td>\n",
       "      <td>1.231149</td>\n",
       "    </tr>\n",
       "    <tr>\n",
       "      <th>min</th>\n",
       "      <td>1000.000000</td>\n",
       "      <td>-0.010000</td>\n",
       "      <td>588.500000</td>\n",
       "      <td>2.000000</td>\n",
       "      <td>0.000000</td>\n",
       "      <td>0.000000</td>\n",
       "    </tr>\n",
       "    <tr>\n",
       "      <th>25%</th>\n",
       "      <td>6000.000000</td>\n",
       "      <td>6000.000000</td>\n",
       "      <td>3500.000000</td>\n",
       "      <td>7.000000</td>\n",
       "      <td>5584.000000</td>\n",
       "      <td>0.000000</td>\n",
       "    </tr>\n",
       "    <tr>\n",
       "      <th>50%</th>\n",
       "      <td>10000.000000</td>\n",
       "      <td>10000.000000</td>\n",
       "      <td>5000.000000</td>\n",
       "      <td>9.000000</td>\n",
       "      <td>10948.000000</td>\n",
       "      <td>0.000000</td>\n",
       "    </tr>\n",
       "    <tr>\n",
       "      <th>75%</th>\n",
       "      <td>17000.000000</td>\n",
       "      <td>16000.000000</td>\n",
       "      <td>6800.000000</td>\n",
       "      <td>13.000000</td>\n",
       "      <td>18861.000000</td>\n",
       "      <td>1.000000</td>\n",
       "    </tr>\n",
       "    <tr>\n",
       "      <th>max</th>\n",
       "      <td>35000.000000</td>\n",
       "      <td>35000.000000</td>\n",
       "      <td>102750.000000</td>\n",
       "      <td>38.000000</td>\n",
       "      <td>270800.000000</td>\n",
       "      <td>9.000000</td>\n",
       "    </tr>\n",
       "  </tbody>\n",
       "</table>\n",
       "</div>"
      ],
      "text/plain": [
       "       Amount.Requested  Amount.Funded.By.Investors  Monthly.Income  \\\n",
       "count       2499.000000                 2499.000000     2499.000000   \n",
       "mean       12405.462185                12002.374186     5688.931321   \n",
       "std         7802.933666                 7746.767348     3963.118185   \n",
       "min         1000.000000                   -0.010000      588.500000   \n",
       "25%         6000.000000                 6000.000000     3500.000000   \n",
       "50%        10000.000000                10000.000000     5000.000000   \n",
       "75%        17000.000000                16000.000000     6800.000000   \n",
       "max        35000.000000                35000.000000   102750.000000   \n",
       "\n",
       "       Open.CREDIT.Lines  Revolving.CREDIT.Balance  \\\n",
       "count        2497.000000               2497.000000   \n",
       "mean           10.072887              15223.184622   \n",
       "std             4.507416              18281.015258   \n",
       "min             2.000000                  0.000000   \n",
       "25%             7.000000               5584.000000   \n",
       "50%             9.000000              10948.000000   \n",
       "75%            13.000000              18861.000000   \n",
       "max            38.000000             270800.000000   \n",
       "\n",
       "       Inquiries.in.the.Last.6.Months  \n",
       "count                     2497.000000  \n",
       "mean                         0.906688  \n",
       "std                          1.231149  \n",
       "min                          0.000000  \n",
       "25%                          0.000000  \n",
       "50%                          0.000000  \n",
       "75%                          1.000000  \n",
       "max                          9.000000  "
      ]
     },
     "execution_count": 8,
     "metadata": {},
     "output_type": "execute_result"
    }
   ],
   "source": [
    "loansdata.describe()"
   ]
  },
  {
   "cell_type": "code",
   "execution_count": 11,
   "id": "4f5de36f-2993-4a2c-8cce-91a3b0e9c344",
   "metadata": {},
   "outputs": [
    {
     "name": "stdout",
     "output_type": "stream",
     "text": [
      "<class 'pandas.core.frame.DataFrame'>\n",
      "RangeIndex: 2500 entries, 0 to 2499\n",
      "Data columns (total 14 columns):\n",
      " #   Column                          Non-Null Count  Dtype  \n",
      "---  ------                          --------------  -----  \n",
      " 0   Amount.Requested                2499 non-null   float64\n",
      " 1   Amount.Funded.By.Investors      2499 non-null   float64\n",
      " 2   Interest.Rate                   2498 non-null   object \n",
      " 3   Loan.Length                     2500 non-null   object \n",
      " 4   Loan.Purpose                    2500 non-null   object \n",
      " 5   Debt.To.Income.Ratio            2499 non-null   object \n",
      " 6   State                           2500 non-null   object \n",
      " 7   Home.Ownership                  2499 non-null   object \n",
      " 8   Monthly.Income                  2499 non-null   float64\n",
      " 9   FICO.Range                      2498 non-null   object \n",
      " 10  Open.CREDIT.Lines               2497 non-null   float64\n",
      " 11  Revolving.CREDIT.Balance        2497 non-null   float64\n",
      " 12  Inquiries.in.the.Last.6.Months  2497 non-null   float64\n",
      " 13  Employment.Length               2423 non-null   object \n",
      "dtypes: float64(6), object(8)\n",
      "memory usage: 273.6+ KB\n"
     ]
    }
   ],
   "source": [
    "loansdata.info()"
   ]
  },
  {
   "cell_type": "code",
   "execution_count": 13,
   "id": "ee076ef3-2c2d-444b-87d2-397f7f32bd3d",
   "metadata": {},
   "outputs": [
    {
     "data": {
      "text/plain": [
       "Index(['Amount.Requested', 'Amount.Funded.By.Investors', 'Interest.Rate',\n",
       "       'Loan.Length', 'Loan.Purpose', 'Debt.To.Income.Ratio', 'State',\n",
       "       'Home.Ownership', 'Monthly.Income', 'FICO.Range', 'Open.CREDIT.Lines',\n",
       "       'Revolving.CREDIT.Balance', 'Inquiries.in.the.Last.6.Months',\n",
       "       'Employment.Length'],\n",
       "      dtype='object')"
      ]
     },
     "execution_count": 13,
     "metadata": {},
     "output_type": "execute_result"
    }
   ],
   "source": [
    "loansdata.columns"
   ]
  },
  {
   "cell_type": "code",
   "execution_count": 17,
   "id": "9855a482-3129-4c39-877b-59ed90f35361",
   "metadata": {},
   "outputs": [
    {
     "data": {
      "text/plain": [
       "Amount.Requested                   1\n",
       "Amount.Funded.By.Investors         1\n",
       "Interest.Rate                      2\n",
       "Loan.Length                        0\n",
       "Loan.Purpose                       0\n",
       "Debt.To.Income.Ratio               1\n",
       "State                              0\n",
       "Home.Ownership                     1\n",
       "Monthly.Income                     1\n",
       "FICO.Range                         2\n",
       "Open.CREDIT.Lines                  3\n",
       "Revolving.CREDIT.Balance           3\n",
       "Inquiries.in.the.Last.6.Months     3\n",
       "Employment.Length                 77\n",
       "dtype: int64"
      ]
     },
     "execution_count": 17,
     "metadata": {},
     "output_type": "execute_result"
    }
   ],
   "source": [
    "loansdata.isnull().sum()"
   ]
  },
  {
   "cell_type": "code",
   "execution_count": 23,
   "id": "5d69aea6-2430-46f4-9408-f7992d83dde7",
   "metadata": {},
   "outputs": [
    {
     "data": {
      "text/plain": [
       "<Axes: >"
      ]
     },
     "execution_count": 23,
     "metadata": {},
     "output_type": "execute_result"
    },
    {
     "data": {
      "image/png": "[encoded data removed]",
      "text/plain": [
       "<Figure size 640x480 with 1 Axes>"
      ]
     },
     "metadata": {},
     "output_type": "display_data"
    }
   ],
   "source": [
    "loansdata['Interest.Rate'].plot(kind ='box')"
   ]
  },
  {
   "cell_type": "markdown",
   "id": "08ab64cd-9f41-4fb3-be28-4fba93dbce43",
   "metadata": {},
   "source": [
    "# Business Problem 1"
   ]
  },
  {
   "cell_type": "markdown",
   "id": "fe7758ad-612f-47f2-ad20-f33f6fe9442f",
   "metadata": {},
   "source": [
    "**A.Interest rate is varied for different loan amounts(Less intrest charged for hogh loans amounts).**\n",
    "\n",
    "**B.Loan length is directly effecting intrest rate.**\n",
    "\n",
    "**C.Intrest rate varies for different purpose of loans.**\n",
    "\n",
    "**D.There is relationship between FICO scores and Home Ownership.It means that,people with owing home will have high FICO scores.**"
   ]
  },
  {
   "cell_type": "markdown",
   "id": "6ef5239e-e56f-41de-90bd-96b728412f54",
   "metadata": {},
   "source": [
    "### A.Interest rate is varied for different loan amounts(Less intrest charged for hogh loans amounts)"
   ]
  },
  {
   "cell_type": "code",
   "execution_count": 21,
   "id": "08640d89-ef94-4f2c-9111-0660e8058690",
   "metadata": {},
   "outputs": [],
   "source": [
    "#Firstly, in dataset loansdata we have col \"Interest Rate\" which is object,\n",
    "#To convert \"Interest Rate\" column to Float\n",
    "\n",
    "loansdata[\"Interest.Rate\"] = loansdata[\"Interest.Rate\"].str.replace(\"%\",\"\") # Here replacing % sign with nothing(with\"\")\n",
    "#Converting dtype to float\n",
    "loansdata[\"Interest.Rate\"] = loansdata[\"Interest.Rate\"].astype(\"float\")"
   ]
  },
  {
   "cell_type": "code",
   "execution_count": 22,
   "id": "8b912763-f4b7-4571-a50b-5baf8edb123a",
   "metadata": {},
   "outputs": [
    {
     "name": "stdout",
     "output_type": "stream",
     "text": [
      "<class 'pandas.core.frame.DataFrame'>\n",
      "RangeIndex: 2500 entries, 0 to 2499\n",
      "Data columns (total 14 columns):\n",
      " #   Column                          Non-Null Count  Dtype  \n",
      "---  ------                          --------------  -----  \n",
      " 0   Amount.Requested                2499 non-null   float64\n",
      " 1   Amount.Funded.By.Investors      2499 non-null   float64\n",
      " 2   Interest.Rate                   2498 non-null   float64\n",
      " 3   Loan.Length                     2500 non-null   object \n",
      " 4   Loan.Purpose                    2500 non-null   object \n",
      " 5   Debt.To.Income.Ratio            2499 non-null   object \n",
      " 6   State                           2500 non-null   object \n",
      " 7   Home.Ownership                  2499 non-null   object \n",
      " 8   Monthly.Income                  2499 non-null   float64\n",
      " 9   FICO.Range                      2498 non-null   object \n",
      " 10  Open.CREDIT.Lines               2497 non-null   float64\n",
      " 11  Revolving.CREDIT.Balance        2497 non-null   float64\n",
      " 12  Inquiries.in.the.Last.6.Months  2497 non-null   float64\n",
      " 13  Employment.Length               2423 non-null   object \n",
      "dtypes: float64(7), object(7)\n",
      "memory usage: 273.6+ KB\n"
     ]
    }
   ],
   "source": [
    "loansdata.info()"
   ]
  },
  {
   "cell_type": "markdown",
   "id": "f5004ca8-4eb3-4462-a6af-b77a399d54ac",
   "metadata": {},
   "source": [
    "# EDA(Exploratory Data analysis)"
   ]
  },
  {
   "cell_type": "code",
   "execution_count": 27,
   "id": "7e8238ce-807d-4bb5-add5-56095168416f",
   "metadata": {},
   "outputs": [],
   "source": [
    "#Missing value treatment in columns interest rate and amount requested\n",
    "loansdata[\"Interest.Rate\"].fillna(loansdata[\"Interest.Rate\"].mean(),inplace = True)\n",
    "loansdata[\"Amount.Requested\"].fillna(loansdata[\"Amount.Requested\"].mean(),inplace = True)"
   ]
  },
  {
   "cell_type": "markdown",
   "id": "345c7b7a-2e8a-47f1-a3ae-ff1e9e917421",
   "metadata": {},
   "source": [
    "**Define Null Hypothesis (H0)**\n",
    "\n",
    "**H0 = Interest rate does not vary for different loan amount(Less intrest is not charged for high loan amount).**\n",
    "\n",
    "**Define Alternate Hypothesis (H1)**\n",
    "\n",
    "**H1 = interest rate is varied for different loan amount(Less interest charged for high loan amount).**"
   ]
  },
  {
   "cell_type": "code",
   "execution_count": 30,
   "id": "6739480c-3981-4a5f-926b-ccea0deb4323",
   "metadata": {},
   "outputs": [
    {
     "data": {
      "text/plain": [
       "PearsonRResult(statistic=0.33244640596656916, pvalue=1.4148683739770683e-65)"
      ]
     },
     "execution_count": 30,
     "metadata": {},
     "output_type": "execute_result"
    }
   ],
   "source": [
    "# Taking Confidence interval at 95%, and p-value 0.05\n",
    "\n",
    "# Finding the relation between these two continious variable using pearson test.\n",
    "\n",
    "stats.pearsonr(loansdata[\"Interest.Rate\"], loansdata[\"Amount.Requested\"])"
   ]
  },
  {
   "cell_type": "markdown",
   "id": "06e8b48d-22c3-4ebe-b4a7-87d29a5e0ffa",
   "metadata": {},
   "source": [
    " I got p-value smaller than 0.05 thatb means with 95% confidence, I will reject the null hypothesis"
   ]
  },
  {
   "cell_type": "code",
   "execution_count": 31,
   "id": "3f74652f-9d36-4422-be4b-c040cc63a3c7",
   "metadata": {},
   "outputs": [
    {
     "name": "stdout",
     "output_type": "stream",
     "text": [
      "Conclusion :\n",
      "Intrest rate is varied for different loan amounts (Less intrest charged for high loan amounts)\n"
     ]
    }
   ],
   "source": [
    "# Conclusion\n",
    "# Interest rate is varied for different loan amounts(less intrest charged for high loan amounts).\n",
    "\n",
    "print(\"Conclusion :\")\n",
    "print(\"Intrest rate is varied for different loan amounts (Less intrest charged for high loan amounts)\")\n"
   ]
  },
  {
   "cell_type": "markdown",
   "id": "40795f21-f3c8-4d7c-b919-90426d0d4f37",
   "metadata": {},
   "source": [
    "### B.Loan length is directly effecting intrest rate."
   ]
  },
  {
   "cell_type": "code",
   "execution_count": 33,
   "id": "60d9c863-c004-451e-bc9c-392e311fd3e8",
   "metadata": {},
   "outputs": [],
   "source": [
    "# We have only 2 type of loan length with us in the data i.e.\n",
    "# 36 months and 60 months\n",
    "# Putting these two periods in different variables (loan_len_36 and loan_len_60)\n",
    "#so that i can apply test on them to know if they are effectving intrest rate or not\n",
    "\n",
    "loan_len_36 = loansdata.loc[loansdata[\"Loan.Length\"]=='36 months','Interest.Rate']\n",
    "loan_len_60 = loansdata.loc[loansdata[\"Loan.Length\"]=='60 months','Interest.Rate']"
   ]
  },
  {
   "cell_type": "markdown",
   "id": "d60aabb9-6837-469b-bb89-926f9a34f48b",
   "metadata": {},
   "source": [
    "**Define Null hypothesis(H0)**\n",
    "\n",
    "**Loan length is not effecting intrest rate.**\n",
    "\n",
    "**Define Alternate Hypothesis(H1)**\n",
    "\n",
    "**loan length is directly effecting intrest rate**\n",
    "\n",
    "**Taking Confidence Level at 95%,and p-value 0.05**\n",
    "\n",
    "**Performing statistical analysis using t-test**"
   ]
  },
  {
   "cell_type": "code",
   "execution_count": 34,
   "id": "0aeb8a8b-c800-4b39-b4d0-b9dcb2812539",
   "metadata": {},
   "outputs": [
    {
     "data": {
      "text/plain": [
       "TtestResult(statistic=-23.41049023613487, pvalue=9.549596064332559e-110, df=2498.0)"
      ]
     },
     "execution_count": 34,
     "metadata": {},
     "output_type": "execute_result"
    }
   ],
   "source": [
    "stats.ttest_ind(loan_len_36,loan_len_60)"
   ]
  },
  {
   "cell_type": "markdown",
   "id": "a5a3ccd6-46e8-4819-ae9b-857afcd4cb63",
   "metadata": {},
   "source": [
    "I got p-value smaller than 0.05 that means with 95% confidence, I will Reject the null hypothesis"
   ]
  },
  {
   "cell_type": "code",
   "execution_count": 35,
   "id": "c1c0a64d-7a6b-4284-a5da-ce1bb716a644",
   "metadata": {},
   "outputs": [
    {
     "name": "stdout",
     "output_type": "stream",
     "text": [
      "Conclusion :\n",
      "Loan length is directly effecting intrest rate.\n"
     ]
    }
   ],
   "source": [
    "print(\"Conclusion :\")\n",
    "print(\"Loan length is directly effecting intrest rate.\")"
   ]
  },
  {
   "cell_type": "markdown",
   "id": "d76a95f0-d5b8-4de1-8f1b-ac4c13a8852c",
   "metadata": {},
   "source": [
    "### C.Intrest rate varies for different purpose of loans"
   ]
  },
  {
   "cell_type": "markdown",
   "id": "17ba77bf-19ac-4e2f-a9aa-19ff5b3ea090",
   "metadata": {},
   "source": [
    "**Defining Null Hypotheis (H0)**\n",
    "\n",
    "**Intrest rate does not vary for different purpose of loans.**\n",
    "\n",
    "**Defining Alternate Hypothesis (H1)**\n",
    "\n",
    "**Intrest rate varies for different purpose of loans.**"
   ]
  },
  {
   "cell_type": "code",
   "execution_count": 37,
   "id": "47a89481-65a4-4b53-9172-4f1b7e80b58f",
   "metadata": {},
   "outputs": [
    {
     "data": {
      "text/plain": [
       "SignificanceResult(statistic=-0.06035663579266386, pvalue=0.0025354766301471797)"
      ]
     },
     "execution_count": 37,
     "metadata": {},
     "output_type": "execute_result"
    }
   ],
   "source": [
    "# Taking Confidence Level at 95%, and p-value 0.05\n",
    "\n",
    "# Finding relation between 1 categorical and 1 continous variable using Spearman test\n",
    "\n",
    "stats.spearmanr(loansdata[\"Interest.Rate\"],loansdata[\"Loan.Purpose\"])"
   ]
  },
  {
   "cell_type": "markdown",
   "id": "5a23c8d3-138d-409f-9a74-a97f824af5d0",
   "metadata": {},
   "source": [
    "I got p-value smaller than 0.05 that means with 95% confidence, I will reject the null hypothesis"
   ]
  },
  {
   "cell_type": "code",
   "execution_count": 38,
   "id": "999eb713-7cab-4317-b661-53088e2e8875",
   "metadata": {},
   "outputs": [
    {
     "name": "stdout",
     "output_type": "stream",
     "text": [
      "Conclusion :\n",
      "Intrest rate varies for different purpose of loans.\n"
     ]
    }
   ],
   "source": [
    "print(\"Conclusion :\")\n",
    "print(\"Intrest rate varies for different purpose of loans.\")"
   ]
  },
  {
   "cell_type": "markdown",
   "id": "24fb145c-377e-4d1a-863c-2cef15c2429e",
   "metadata": {},
   "source": [
    "### D.There is relationship between FICO scores and Home Ownership.It means that,people with owing home will have high FICO scores."
   ]
  },
  {
   "cell_type": "code",
   "execution_count": 39,
   "id": "a7f1184d-1710-41b5-9536-18d456f2deeb",
   "metadata": {},
   "outputs": [
    {
     "data": {
      "text/plain": [
       "2"
      ]
     },
     "execution_count": 39,
     "metadata": {},
     "output_type": "execute_result"
    }
   ],
   "source": [
    "# Finding missing value in FICO range\n",
    "loansdata[\"FICO.Range\"].isna().sum()"
   ]
  },
  {
   "cell_type": "code",
   "execution_count": 40,
   "id": "b7d18eb8-2212-4a63-8c06-781625abd399",
   "metadata": {},
   "outputs": [
    {
     "data": {
      "text/plain": [
       "count        2498\n",
       "unique         38\n",
       "top       670-674\n",
       "freq          171\n",
       "Name: FICO.Range, dtype: object"
      ]
     },
     "execution_count": 40,
     "metadata": {},
     "output_type": "execute_result"
    }
   ],
   "source": [
    "loansdata[\"FICO.Range\"].describe()"
   ]
  },
  {
   "cell_type": "code",
   "execution_count": 41,
   "id": "6d5e2fc7-6254-4937-acb7-0203181f9d91",
   "metadata": {},
   "outputs": [],
   "source": [
    "# As show in the difference is (670-674), so replacing missing values with the range\n",
    "loansdata[\"FICO.Range\"].fillna(\"670-674\",inplace = True)"
   ]
  },
  {
   "cell_type": "markdown",
   "id": "9de82f74-458b-4d2b-b9ca-7fef989d4d7e",
   "metadata": {},
   "source": [
    "**Defining Null Hypothesis(H0)**\n",
    "\n",
    "**There is no relationship between FICO scores and Home Ownership**\n",
    "\n",
    "**Defining Alternative Hypothesis (H1)**\n",
    "\n",
    "**There is relationship between FICO scores and Home Ownership**"
   ]
  },
  {
   "cell_type": "code",
   "execution_count": 42,
   "id": "d554b6ea-5509-43f7-ac9e-2fba50278139",
   "metadata": {},
   "outputs": [],
   "source": [
    "#Taking Confidence level at 95%, and p-value 0.05\n",
    "#Creating a table for these 2 cols and saving to var name relation_FICO_and_homeownership\n",
    "\n",
    "relation_FICO_and_homeownership = pd.crosstab(loansdata[\"Home.Ownership\"],loansdata[\"FICO.Range\"])"
   ]
  },
  {
   "cell_type": "code",
   "execution_count": 44,
   "id": "a4c80b46-8dab-4092-b183-256dd70b31c8",
   "metadata": {},
   "outputs": [
    {
     "data": {
      "text/plain": [
       "Chi2ContingencyResult(statistic=473.29621816347037, pvalue=1.1047530717463926e-35, dof=148, expected_freq=array([[2.29491797e+00, 1.37695078e+00, 4.58983593e-01, 1.83593437e+00,\n",
       "        5.73729492e+01, 6.65526210e+01, 7.94041617e+01, 7.61912765e+01,\n",
       "        7.20604242e+01, 6.24217687e+01, 6.42577031e+01, 7.02244898e+01,\n",
       "        6.01268507e+01, 6.15038015e+01, 5.09471789e+01, 4.26854742e+01,\n",
       "        5.23241297e+01, 4.31444578e+01, 4.31444578e+01, 2.98339336e+01,\n",
       "        2.43261305e+01, 2.47851140e+01, 2.79979992e+01, 2.11132453e+01,\n",
       "        2.11132453e+01, 1.65234094e+01, 7.80272109e+00, 1.00976391e+01,\n",
       "        1.28515406e+01, 8.72068828e+00, 9.17967187e+00, 5.96678671e+00,\n",
       "        5.96678671e+00, 5.04881953e+00, 3.67186875e+00, 2.75390156e+00,\n",
       "        4.58983593e-01, 4.58983593e-01],\n",
       "       [2.00080032e-03, 1.20048019e-03, 4.00160064e-04, 1.60064026e-03,\n",
       "        5.00200080e-02, 5.80232093e-02, 6.92276911e-02, 6.64265706e-02,\n",
       "        6.28251301e-02, 5.44217687e-02, 5.60224090e-02, 6.12244898e-02,\n",
       "        5.24209684e-02, 5.36214486e-02, 4.44177671e-02, 3.72148860e-02,\n",
       "        4.56182473e-02, 3.76150460e-02, 3.76150460e-02, 2.60104042e-02,\n",
       "        2.12084834e-02, 2.16086435e-02, 2.44097639e-02, 1.84073629e-02,\n",
       "        1.84073629e-02, 1.44057623e-02, 6.80272109e-03, 8.80352141e-03,\n",
       "        1.12044818e-02, 7.60304122e-03, 8.00320128e-03, 5.20208083e-03,\n",
       "        5.20208083e-03, 4.40176070e-03, 3.20128051e-03, 2.40096038e-03,\n",
       "        4.00160064e-04, 4.00160064e-04],\n",
       "       [1.00040016e-02, 6.00240096e-03, 2.00080032e-03, 8.00320128e-03,\n",
       "        2.50100040e-01, 2.90116046e-01, 3.46138455e-01, 3.32132853e-01,\n",
       "        3.14125650e-01, 2.72108844e-01, 2.80112045e-01, 3.06122449e-01,\n",
       "        2.62104842e-01, 2.68107243e-01, 2.22088836e-01, 1.86074430e-01,\n",
       "        2.28091236e-01, 1.88075230e-01, 1.88075230e-01, 1.30052021e-01,\n",
       "        1.06042417e-01, 1.08043217e-01, 1.22048820e-01, 9.20368147e-02,\n",
       "        9.20368147e-02, 7.20288115e-02, 3.40136054e-02, 4.40176070e-02,\n",
       "        5.60224090e-02, 3.80152061e-02, 4.00160064e-02, 2.60104042e-02,\n",
       "        2.60104042e-02, 2.20088035e-02, 1.60064026e-02, 1.20048019e-02,\n",
       "        2.00080032e-03, 2.00080032e-03],\n",
       "       [4.00160064e-01, 2.40096038e-01, 8.00320128e-02, 3.20128051e-01,\n",
       "        1.00040016e+01, 1.16046419e+01, 1.38455382e+01, 1.32853141e+01,\n",
       "        1.25650260e+01, 1.08843537e+01, 1.12044818e+01, 1.22448980e+01,\n",
       "        1.04841937e+01, 1.07242897e+01, 8.88355342e+00, 7.44297719e+00,\n",
       "        9.12364946e+00, 7.52300920e+00, 7.52300920e+00, 5.20208083e+00,\n",
       "        4.24169668e+00, 4.32172869e+00, 4.88195278e+00, 3.68147259e+00,\n",
       "        3.68147259e+00, 2.88115246e+00, 1.36054422e+00, 1.76070428e+00,\n",
       "        2.24089636e+00, 1.52060824e+00, 1.60064026e+00, 1.04041617e+00,\n",
       "        1.04041617e+00, 8.80352141e-01, 6.40256102e-01, 4.80192077e-01,\n",
       "        8.00320128e-02, 8.00320128e-02],\n",
       "       [2.29291717e+00, 1.37575030e+00, 4.58583433e-01, 1.83433373e+00,\n",
       "        5.73229292e+01, 6.64945978e+01, 7.93349340e+01, 7.61248499e+01,\n",
       "        7.19975990e+01, 6.23673469e+01, 6.42016807e+01, 7.01632653e+01,\n",
       "        6.00744298e+01, 6.14501801e+01, 5.09027611e+01, 4.26482593e+01,\n",
       "        5.22785114e+01, 4.31068427e+01, 4.31068427e+01, 2.98079232e+01,\n",
       "        2.43049220e+01, 2.47635054e+01, 2.79735894e+01, 2.10948379e+01,\n",
       "        2.10948379e+01, 1.65090036e+01, 7.79591837e+00, 1.00888355e+01,\n",
       "        1.28403361e+01, 8.71308523e+00, 9.17166867e+00, 5.96158463e+00,\n",
       "        5.96158463e+00, 5.04441777e+00, 3.66866747e+00, 2.75150060e+00,\n",
       "        4.58583433e-01, 4.58583433e-01]]))"
      ]
     },
     "execution_count": 44,
     "metadata": {},
     "output_type": "execute_result"
    }
   ],
   "source": [
    "# Finding relationship between these two columns (Home ownership and Fico range) using chi-square test\n",
    "\n",
    "stats.chi2_contingency(relation_FICO_and_homeownership)"
   ]
  },
  {
   "cell_type": "markdown",
   "id": "a80fdcc1-7e9d-425b-b497-160605fd6d62",
   "metadata": {},
   "source": [
    "I got p-value smaller than 0.05 that means 95% confidence, I will reject the null hypothesis"
   ]
  },
  {
   "cell_type": "code",
   "execution_count": 45,
   "id": "959ac46c-ac4d-4695-9e56-49f81b384916",
   "metadata": {},
   "outputs": [
    {
     "name": "stdout",
     "output_type": "stream",
     "text": [
      "Conclusion :\n",
      "There is relationship between FICO scores and Home Ownership. It means that, people with owning home will have high FICO scores.\n"
     ]
    }
   ],
   "source": [
    "print(\"Conclusion :\")\n",
    "print(\"There is relationship between FICO scores and Home Ownership. It means that, people with owning home will have high FICO scores.\")"
   ]
  },
  {
   "cell_type": "markdown",
   "id": "5defd654-a178-4d81-82be-2a97f46a118e",
   "metadata": {},
   "source": [
    "# Business Problem 2"
   ]
  },
  {
   "cell_type": "markdown",
   "id": "90272ccd-61a2-4cd0-b66f-5009151a845c",
   "metadata": {},
   "source": [
    "We would like to assess if there is any difference in the average price quotes provided by Mary and Barry."
   ]
  },
  {
   "cell_type": "code",
   "execution_count": 47,
   "id": "f43cced3-15b6-4c57-8a0a-68e9453c1cea",
   "metadata": {},
   "outputs": [],
   "source": [
    "price_quotes = pd.read_csv('Price_Quotes.csv')"
   ]
  },
  {
   "cell_type": "code",
   "execution_count": 48,
   "id": "4732de14-68af-423f-beec-e2c4cd052530",
   "metadata": {},
   "outputs": [
    {
     "data": {
      "text/html": [
       "<div>\n",
       "<style scoped>\n",
       "    .dataframe tbody tr th:only-of-type {\n",
       "        vertical-align: middle;\n",
       "    }\n",
       "\n",
       "    .dataframe tbody tr th {\n",
       "        vertical-align: top;\n",
       "    }\n",
       "\n",
       "    .dataframe thead th {\n",
       "        text-align: right;\n",
       "    }\n",
       "</style>\n",
       "<table border=\"1\" class=\"dataframe\">\n",
       "  <thead>\n",
       "    <tr style=\"text-align: right;\">\n",
       "      <th></th>\n",
       "      <th>Order_Number</th>\n",
       "      <th>Barry_Price</th>\n",
       "      <th>Mary_Price</th>\n",
       "    </tr>\n",
       "  </thead>\n",
       "  <tbody>\n",
       "    <tr>\n",
       "      <th>0</th>\n",
       "      <td>1</td>\n",
       "      <td>126</td>\n",
       "      <td>114</td>\n",
       "    </tr>\n",
       "    <tr>\n",
       "      <th>1</th>\n",
       "      <td>2</td>\n",
       "      <td>110</td>\n",
       "      <td>118</td>\n",
       "    </tr>\n",
       "    <tr>\n",
       "      <th>2</th>\n",
       "      <td>3</td>\n",
       "      <td>138</td>\n",
       "      <td>114</td>\n",
       "    </tr>\n",
       "    <tr>\n",
       "      <th>3</th>\n",
       "      <td>4</td>\n",
       "      <td>142</td>\n",
       "      <td>111</td>\n",
       "    </tr>\n",
       "    <tr>\n",
       "      <th>4</th>\n",
       "      <td>5</td>\n",
       "      <td>146</td>\n",
       "      <td>129</td>\n",
       "    </tr>\n",
       "  </tbody>\n",
       "</table>\n",
       "</div>"
      ],
      "text/plain": [
       "   Order_Number  Barry_Price  Mary_Price\n",
       "0             1          126         114\n",
       "1             2          110         118\n",
       "2             3          138         114\n",
       "3             4          142         111\n",
       "4             5          146         129"
      ]
     },
     "execution_count": 48,
     "metadata": {},
     "output_type": "execute_result"
    }
   ],
   "source": [
    "price_quotes.head()"
   ]
  },
  {
   "cell_type": "code",
   "execution_count": 49,
   "id": "3064edd0-f81a-44d2-a509-70b46e73459f",
   "metadata": {},
   "outputs": [
    {
     "data": {
      "text/html": [
       "<div>\n",
       "<style scoped>\n",
       "    .dataframe tbody tr th:only-of-type {\n",
       "        vertical-align: middle;\n",
       "    }\n",
       "\n",
       "    .dataframe tbody tr th {\n",
       "        vertical-align: top;\n",
       "    }\n",
       "\n",
       "    .dataframe thead th {\n",
       "        text-align: right;\n",
       "    }\n",
       "</style>\n",
       "<table border=\"1\" class=\"dataframe\">\n",
       "  <thead>\n",
       "    <tr style=\"text-align: right;\">\n",
       "      <th></th>\n",
       "      <th>Order_Number</th>\n",
       "      <th>Barry_Price</th>\n",
       "      <th>Mary_Price</th>\n",
       "    </tr>\n",
       "  </thead>\n",
       "  <tbody>\n",
       "    <tr>\n",
       "      <th>count</th>\n",
       "      <td>12.000000</td>\n",
       "      <td>12.000000</td>\n",
       "      <td>12.000000</td>\n",
       "    </tr>\n",
       "    <tr>\n",
       "      <th>mean</th>\n",
       "      <td>6.500000</td>\n",
       "      <td>124.333333</td>\n",
       "      <td>114.750000</td>\n",
       "    </tr>\n",
       "    <tr>\n",
       "      <th>std</th>\n",
       "      <td>3.605551</td>\n",
       "      <td>20.698412</td>\n",
       "      <td>11.054616</td>\n",
       "    </tr>\n",
       "    <tr>\n",
       "      <th>min</th>\n",
       "      <td>1.000000</td>\n",
       "      <td>94.000000</td>\n",
       "      <td>97.000000</td>\n",
       "    </tr>\n",
       "    <tr>\n",
       "      <th>25%</th>\n",
       "      <td>3.750000</td>\n",
       "      <td>106.750000</td>\n",
       "      <td>107.000000</td>\n",
       "    </tr>\n",
       "    <tr>\n",
       "      <th>50%</th>\n",
       "      <td>6.500000</td>\n",
       "      <td>131.000000</td>\n",
       "      <td>114.000000</td>\n",
       "    </tr>\n",
       "    <tr>\n",
       "      <th>75%</th>\n",
       "      <td>9.250000</td>\n",
       "      <td>140.500000</td>\n",
       "      <td>121.000000</td>\n",
       "    </tr>\n",
       "    <tr>\n",
       "      <th>max</th>\n",
       "      <td>12.000000</td>\n",
       "      <td>152.000000</td>\n",
       "      <td>133.000000</td>\n",
       "    </tr>\n",
       "  </tbody>\n",
       "</table>\n",
       "</div>"
      ],
      "text/plain": [
       "       Order_Number  Barry_Price  Mary_Price\n",
       "count     12.000000    12.000000   12.000000\n",
       "mean       6.500000   124.333333  114.750000\n",
       "std        3.605551    20.698412   11.054616\n",
       "min        1.000000    94.000000   97.000000\n",
       "25%        3.750000   106.750000  107.000000\n",
       "50%        6.500000   131.000000  114.000000\n",
       "75%        9.250000   140.500000  121.000000\n",
       "max       12.000000   152.000000  133.000000"
      ]
     },
     "execution_count": 49,
     "metadata": {},
     "output_type": "execute_result"
    }
   ],
   "source": [
    "price_quotes.describe()"
   ]
  },
  {
   "cell_type": "markdown",
   "id": "3d8feae3-8f66-4777-8eea-d916f0ab433d",
   "metadata": {},
   "source": [
    "**Defining Null Hypothesis(H0)**\n",
    "\n",
    "**There is no difference in the average price quotes provied by Mary and Barry**\n",
    "\n",
    "**Defining Alternative Hypothesis (H1)**\n",
    "\n",
    "**There is difference in the average price quotes provided by Mary and Barry**"
   ]
  },
  {
   "cell_type": "code",
   "execution_count": 53,
   "id": "34a96463-0660-42be-98dc-773772315746",
   "metadata": {},
   "outputs": [
    {
     "data": {
      "text/plain": [
       "TtestResult(statistic=-2.5213765108923494, pvalue=0.02840588045242053, df=11)"
      ]
     },
     "execution_count": 53,
     "metadata": {},
     "output_type": "execute_result"
    }
   ],
   "source": [
    "# Taking Confidence level at 95%, and p-value0.05\n",
    "#Finding relation between Bary price and Mary price using t-test\n",
    "\n",
    "stats.ttest_rel(price_quotes[\"Mary_Price\"],price_quotes[\"Barry_Price\"])"
   ]
  },
  {
   "cell_type": "markdown",
   "id": "0a5d37be-78a2-4c7b-b5dd-60b4f71c556e",
   "metadata": {},
   "source": [
    "I got p-value smaller than 0.05 that means with 95% confidence, I will reject the null hypothesis"
   ]
  },
  {
   "cell_type": "code",
   "execution_count": 55,
   "id": "114c29f1-1d50-4247-8a09-481a9141218e",
   "metadata": {},
   "outputs": [
    {
     "name": "stdout",
     "output_type": "stream",
     "text": [
      "Conclusion: \n",
      "Yes,there is difference between the average price quotes provided by Marry and Barry\n"
     ]
    }
   ],
   "source": [
    "print(\"Conclusion: \") \n",
    "print(\"Yes,there is difference between the average price quotes provided by Marry and Barry\")"
   ]
  },
  {
   "cell_type": "markdown",
   "id": "6b334eb1-0494-4ca0-9632-7b47302444aa",
   "metadata": {},
   "source": [
    "# Business Problem 3"
   ]
  },
  {
   "cell_type": "markdown",
   "id": "109f0a67-a7f0-44e7-88ee-1831edc1be26",
   "metadata": {},
   "source": [
    "Determine what effect,if any,the reengineering effort had on the incidence behavioural problems and staff urnover.i.e, To determine if the reengineering effort changed the critical incidence rate.Is there evidence that the critical incidence rate improved?"
   ]
  },
  {
   "cell_type": "code",
   "execution_count": 56,
   "id": "217379ef-ece3-40e7-bb6b-7fc4d935ba97",
   "metadata": {},
   "outputs": [],
   "source": [
    "treatment_facility = pd.read_csv('Treatment_Facility.csv')"
   ]
  },
  {
   "cell_type": "code",
   "execution_count": 57,
   "id": "11890fde-4ca2-4209-9bbf-554c4e15b17c",
   "metadata": {},
   "outputs": [
    {
     "data": {
      "text/html": [
       "<div>\n",
       "<style scoped>\n",
       "    .dataframe tbody tr th:only-of-type {\n",
       "        vertical-align: middle;\n",
       "    }\n",
       "\n",
       "    .dataframe tbody tr th {\n",
       "        vertical-align: top;\n",
       "    }\n",
       "\n",
       "    .dataframe thead th {\n",
       "        text-align: right;\n",
       "    }\n",
       "</style>\n",
       "<table border=\"1\" class=\"dataframe\">\n",
       "  <thead>\n",
       "    <tr style=\"text-align: right;\">\n",
       "      <th></th>\n",
       "      <th>Month</th>\n",
       "      <th>Reengineer</th>\n",
       "      <th>Employee_Turnover</th>\n",
       "      <th>VAR4</th>\n",
       "      <th>VAR5</th>\n",
       "    </tr>\n",
       "  </thead>\n",
       "  <tbody>\n",
       "    <tr>\n",
       "      <th>0</th>\n",
       "      <td>1</td>\n",
       "      <td>Prior</td>\n",
       "      <td>0.0000</td>\n",
       "      <td>24.390244</td>\n",
       "      <td>42.682927</td>\n",
       "    </tr>\n",
       "    <tr>\n",
       "      <th>1</th>\n",
       "      <td>2</td>\n",
       "      <td>Prior</td>\n",
       "      <td>6.0606</td>\n",
       "      <td>19.354839</td>\n",
       "      <td>25.806452</td>\n",
       "    </tr>\n",
       "    <tr>\n",
       "      <th>2</th>\n",
       "      <td>3</td>\n",
       "      <td>Prior</td>\n",
       "      <td>12.1212</td>\n",
       "      <td>35.087719</td>\n",
       "      <td>146.198830</td>\n",
       "    </tr>\n",
       "    <tr>\n",
       "      <th>3</th>\n",
       "      <td>4</td>\n",
       "      <td>Prior</td>\n",
       "      <td>3.3333</td>\n",
       "      <td>18.404908</td>\n",
       "      <td>110.429448</td>\n",
       "    </tr>\n",
       "    <tr>\n",
       "      <th>4</th>\n",
       "      <td>5</td>\n",
       "      <td>Prior</td>\n",
       "      <td>12.9032</td>\n",
       "      <td>17.964072</td>\n",
       "      <td>23.952096</td>\n",
       "    </tr>\n",
       "  </tbody>\n",
       "</table>\n",
       "</div>"
      ],
      "text/plain": [
       "   Month Reengineer  Employee_Turnover       VAR4        VAR5\n",
       "0      1      Prior             0.0000  24.390244   42.682927\n",
       "1      2      Prior             6.0606  19.354839   25.806452\n",
       "2      3      Prior            12.1212  35.087719  146.198830\n",
       "3      4      Prior             3.3333  18.404908  110.429448\n",
       "4      5      Prior            12.9032  17.964072   23.952096"
      ]
     },
     "execution_count": 57,
     "metadata": {},
     "output_type": "execute_result"
    }
   ],
   "source": [
    "treatment_facility.head()"
   ]
  },
  {
   "cell_type": "code",
   "execution_count": 58,
   "id": "d404a188-a5c7-49db-ac81-555ed41ff765",
   "metadata": {},
   "outputs": [],
   "source": [
    "# Data understanding\n",
    "# AS we have two cols VAR4 and VAR5 in the dataset un-named and technically irrelevant(according to there names)\n",
    "# I am considering these two columns as \"TRFF\" and \"CI\" as I was given in the Data Available section of Business Problem\n",
    "\n",
    "treatment_facility.rename(columns = {\"VAR4\":\"TRFF\", \"VAR5\":\"CI\"},inplace = True)"
   ]
  },
  {
   "cell_type": "code",
   "execution_count": 59,
   "id": "7d6222f8-9d63-494d-b44c-199df1d80cf2",
   "metadata": {},
   "outputs": [
    {
     "data": {
      "text/html": [
       "<div>\n",
       "<style scoped>\n",
       "    .dataframe tbody tr th:only-of-type {\n",
       "        vertical-align: middle;\n",
       "    }\n",
       "\n",
       "    .dataframe tbody tr th {\n",
       "        vertical-align: top;\n",
       "    }\n",
       "\n",
       "    .dataframe thead th {\n",
       "        text-align: right;\n",
       "    }\n",
       "</style>\n",
       "<table border=\"1\" class=\"dataframe\">\n",
       "  <thead>\n",
       "    <tr style=\"text-align: right;\">\n",
       "      <th></th>\n",
       "      <th>Month</th>\n",
       "      <th>Reengineer</th>\n",
       "      <th>Employee_Turnover</th>\n",
       "      <th>TRFF</th>\n",
       "      <th>CI</th>\n",
       "    </tr>\n",
       "  </thead>\n",
       "  <tbody>\n",
       "    <tr>\n",
       "      <th>0</th>\n",
       "      <td>1</td>\n",
       "      <td>Prior</td>\n",
       "      <td>0.0000</td>\n",
       "      <td>24.390244</td>\n",
       "      <td>42.682927</td>\n",
       "    </tr>\n",
       "    <tr>\n",
       "      <th>1</th>\n",
       "      <td>2</td>\n",
       "      <td>Prior</td>\n",
       "      <td>6.0606</td>\n",
       "      <td>19.354839</td>\n",
       "      <td>25.806452</td>\n",
       "    </tr>\n",
       "    <tr>\n",
       "      <th>2</th>\n",
       "      <td>3</td>\n",
       "      <td>Prior</td>\n",
       "      <td>12.1212</td>\n",
       "      <td>35.087719</td>\n",
       "      <td>146.198830</td>\n",
       "    </tr>\n",
       "    <tr>\n",
       "      <th>3</th>\n",
       "      <td>4</td>\n",
       "      <td>Prior</td>\n",
       "      <td>3.3333</td>\n",
       "      <td>18.404908</td>\n",
       "      <td>110.429448</td>\n",
       "    </tr>\n",
       "    <tr>\n",
       "      <th>4</th>\n",
       "      <td>5</td>\n",
       "      <td>Prior</td>\n",
       "      <td>12.9032</td>\n",
       "      <td>17.964072</td>\n",
       "      <td>23.952096</td>\n",
       "    </tr>\n",
       "  </tbody>\n",
       "</table>\n",
       "</div>"
      ],
      "text/plain": [
       "   Month Reengineer  Employee_Turnover       TRFF          CI\n",
       "0      1      Prior             0.0000  24.390244   42.682927\n",
       "1      2      Prior             6.0606  19.354839   25.806452\n",
       "2      3      Prior            12.1212  35.087719  146.198830\n",
       "3      4      Prior             3.3333  18.404908  110.429448\n",
       "4      5      Prior            12.9032  17.964072   23.952096"
      ]
     },
     "execution_count": 59,
     "metadata": {},
     "output_type": "execute_result"
    }
   ],
   "source": [
    "treatment_facility.head()"
   ]
  },
  {
   "cell_type": "markdown",
   "id": "29208e47-90b6-4b77-b41c-67ff508ccb3a",
   "metadata": {},
   "source": [
    "**Defining Null Hypothesis(H0)**\n",
    "\n",
    "**There is no effect post the reengineer**\n",
    "\n",
    "**Defining Alternative Hypothesis (H1)**\n",
    "\n",
    "**There is effect post the reengineer**"
   ]
  },
  {
   "cell_type": "code",
   "execution_count": 64,
   "id": "077f6516-7fee-4002-baac-a7d61be5ce54",
   "metadata": {},
   "outputs": [],
   "source": [
    "# Taking Confidence Interval at 95%, and p-value 0.05\n",
    "# Differentiating the Reengineer column to \"prior\" and \"post\"\n",
    "\n",
    "prior = treatment_facility[treatment_facility[\"Reengineer\"]==\"Prior\"][\"CI\"]\n",
    "post = treatment_facility[treatment_facility[\"Reengineer\"]==\"Post\"][\"CI\"]"
   ]
  },
  {
   "cell_type": "code",
   "execution_count": 65,
   "id": "261703d0-5ff0-47c7-8f83-fe847baf8904",
   "metadata": {},
   "outputs": [
    {
     "data": {
      "text/plain": [
       "TtestResult(statistic=1.627914425352865, pvalue=0.12091989189884148, df=18.0)"
      ]
     },
     "execution_count": 65,
     "metadata": {},
     "output_type": "execute_result"
    }
   ],
   "source": [
    "stats.ttest_ind(prior,post)"
   ]
  },
  {
   "cell_type": "markdown",
   "id": "8f62617f-640c-4b23-93c3-8147986449d2",
   "metadata": {},
   "source": [
    "I got p-value greater than 0.05 that means with 95% confidence, I will fail to accept the null hupothesis"
   ]
  },
  {
   "cell_type": "code",
   "execution_count": 66,
   "id": "4c8061eb-bae7-4160-9ce1-1a2b79d00120",
   "metadata": {},
   "outputs": [
    {
     "name": "stdout",
     "output_type": "stream",
     "text": [
      "Conculision :\n",
      "There is insufficient evidence to conclude that the reengineering effort resulted in a significant change in the critical incidence rate\n"
     ]
    }
   ],
   "source": [
    "print(\"Conculision :\")\n",
    "print(\"There is insufficient evidence to conclude that the reengineering effort resulted in a significant change in the critical incidence rate\")"
   ]
  },
  {
   "cell_type": "markdown",
   "id": "6a01c1c8-acfd-47e0-924c-e0617828a704",
   "metadata": {},
   "source": [
    "# Business Problem 4"
   ]
  },
  {
   "cell_type": "markdown",
   "id": "0caa647d-2107-48cd-9c36-7b651ab9c165",
   "metadata": {},
   "source": [
    "We will focus on the prioritization system.If the system is workinhg,then high priority jobs,on average,should be completed more quickly than low priority jobs.Use the data provided to determine whether this is ,in fact,occurring."
   ]
  },
  {
   "cell_type": "code",
   "execution_count": 68,
   "id": "b612c66d-e22b-4576-9023-f465b4d53792",
   "metadata": {},
   "outputs": [],
   "source": [
    "priority_assessment = pd.read_csv('Priority_Assessment.csv')"
   ]
  },
  {
   "cell_type": "code",
   "execution_count": 69,
   "id": "da50cc11-696d-4f90-bce5-4bf557417a00",
   "metadata": {},
   "outputs": [
    {
     "data": {
      "text/html": [
       "<div>\n",
       "<style scoped>\n",
       "    .dataframe tbody tr th:only-of-type {\n",
       "        vertical-align: middle;\n",
       "    }\n",
       "\n",
       "    .dataframe tbody tr th {\n",
       "        vertical-align: top;\n",
       "    }\n",
       "\n",
       "    .dataframe thead th {\n",
       "        text-align: right;\n",
       "    }\n",
       "</style>\n",
       "<table border=\"1\" class=\"dataframe\">\n",
       "  <thead>\n",
       "    <tr style=\"text-align: right;\">\n",
       "      <th></th>\n",
       "      <th>Days</th>\n",
       "      <th>Priority</th>\n",
       "    </tr>\n",
       "  </thead>\n",
       "  <tbody>\n",
       "    <tr>\n",
       "      <th>0</th>\n",
       "      <td>3.3</td>\n",
       "      <td>High</td>\n",
       "    </tr>\n",
       "    <tr>\n",
       "      <th>1</th>\n",
       "      <td>7.9</td>\n",
       "      <td>Medium</td>\n",
       "    </tr>\n",
       "    <tr>\n",
       "      <th>2</th>\n",
       "      <td>0.3</td>\n",
       "      <td>High</td>\n",
       "    </tr>\n",
       "    <tr>\n",
       "      <th>3</th>\n",
       "      <td>0.7</td>\n",
       "      <td>Medium</td>\n",
       "    </tr>\n",
       "    <tr>\n",
       "      <th>4</th>\n",
       "      <td>8.6</td>\n",
       "      <td>Medium</td>\n",
       "    </tr>\n",
       "  </tbody>\n",
       "</table>\n",
       "</div>"
      ],
      "text/plain": [
       "   Days Priority\n",
       "0   3.3     High\n",
       "1   7.9   Medium\n",
       "2   0.3     High\n",
       "3   0.7   Medium\n",
       "4   8.6   Medium"
      ]
     },
     "execution_count": 69,
     "metadata": {},
     "output_type": "execute_result"
    }
   ],
   "source": [
    "priority_assessment.head()"
   ]
  },
  {
   "cell_type": "code",
   "execution_count": 70,
   "id": "d2cab390-430f-48e0-a38b-911342308221",
   "metadata": {},
   "outputs": [
    {
     "data": {
      "text/html": [
       "<div>\n",
       "<style scoped>\n",
       "    .dataframe tbody tr th:only-of-type {\n",
       "        vertical-align: middle;\n",
       "    }\n",
       "\n",
       "    .dataframe tbody tr th {\n",
       "        vertical-align: top;\n",
       "    }\n",
       "\n",
       "    .dataframe thead th {\n",
       "        text-align: right;\n",
       "    }\n",
       "</style>\n",
       "<table border=\"1\" class=\"dataframe\">\n",
       "  <thead>\n",
       "    <tr style=\"text-align: right;\">\n",
       "      <th></th>\n",
       "      <th>Days</th>\n",
       "    </tr>\n",
       "  </thead>\n",
       "  <tbody>\n",
       "    <tr>\n",
       "      <th>count</th>\n",
       "      <td>642.000000</td>\n",
       "    </tr>\n",
       "    <tr>\n",
       "      <th>mean</th>\n",
       "      <td>2.946262</td>\n",
       "    </tr>\n",
       "    <tr>\n",
       "      <th>std</th>\n",
       "      <td>6.687063</td>\n",
       "    </tr>\n",
       "    <tr>\n",
       "      <th>min</th>\n",
       "      <td>0.100000</td>\n",
       "    </tr>\n",
       "    <tr>\n",
       "      <th>25%</th>\n",
       "      <td>0.200000</td>\n",
       "    </tr>\n",
       "    <tr>\n",
       "      <th>50%</th>\n",
       "      <td>0.600000</td>\n",
       "    </tr>\n",
       "    <tr>\n",
       "      <th>75%</th>\n",
       "      <td>2.500000</td>\n",
       "    </tr>\n",
       "    <tr>\n",
       "      <th>max</th>\n",
       "      <td>72.900000</td>\n",
       "    </tr>\n",
       "  </tbody>\n",
       "</table>\n",
       "</div>"
      ],
      "text/plain": [
       "             Days\n",
       "count  642.000000\n",
       "mean     2.946262\n",
       "std      6.687063\n",
       "min      0.100000\n",
       "25%      0.200000\n",
       "50%      0.600000\n",
       "75%      2.500000\n",
       "max     72.900000"
      ]
     },
     "execution_count": 70,
     "metadata": {},
     "output_type": "execute_result"
    }
   ],
   "source": [
    "priority_assessment.describe()"
   ]
  },
  {
   "cell_type": "code",
   "execution_count": 71,
   "id": "c0267547-95aa-4b1c-bce0-2273f113d35b",
   "metadata": {},
   "outputs": [],
   "source": [
    "# Dividing the priority on the basis of High, Medium, Low\n",
    "\n",
    "high = priority_assessment[priority_assessment[\"Priority\"]==\"High\"].Days\n",
    "medium = priority_assessment[priority_assessment[\"Priority\"]==\"Medium\"].Days\n",
    "low = priority_assessment[priority_assessment[\"Priority\"]==\"Low\"].Days"
   ]
  },
  {
   "cell_type": "markdown",
   "id": "fb099448-aa58-47a9-b32c-e7aaef7666cb",
   "metadata": {},
   "source": [
    "**Defining Null Hypothesis(H0)**\n",
    "\n",
    "**The prioritization system is not working**\n",
    "\n",
    "**Defining Alternative Hypothesis (H1)**\n",
    "\n",
    "**The prioritization system is working**"
   ]
  },
  {
   "cell_type": "code",
   "execution_count": 72,
   "id": "a1b9303c-fc50-4e1b-86b4-d9746307b149",
   "metadata": {},
   "outputs": [
    {
     "data": {
      "text/plain": [
       "F_onewayResult(statistic=1.812311010076072, pvalue=0.16411459461716182)"
      ]
     },
     "execution_count": 72,
     "metadata": {},
     "output_type": "execute_result"
    }
   ],
   "source": [
    "# Taking Confidence Level at 95%, and p-value 0.05\n",
    "# As i have 3 groups with, i will use ANOVA test -  Analysis of Variance (basically helps in finding the variation between groups)\n",
    "\n",
    "stats.f_oneway(high,medium,low)"
   ]
  },
  {
   "cell_type": "markdown",
   "id": "35c2a3cf-0f8b-49ab-b2ea-7ca10f59d9aa",
   "metadata": {},
   "source": [
    "I got p-value greater than 0.05 that means with 95% confidence, I will fail to reject the null hypothesis"
   ]
  },
  {
   "cell_type": "markdown",
   "id": "e37f4abd-3728-4784-857a-431b7f18f645",
   "metadata": {},
   "source": [
    "# Business Problem 5"
   ]
  },
  {
   "cell_type": "markdown",
   "id": "a73adeae-d55c-4d59-8044-c4e09fef6826",
   "metadata": {},
   "source": [
    "**A. What is the overall level of customer satisfacion?**\n",
    "\n",
    "**B. What factors are linked to satisfaction?**\n",
    "\n",
    "**C. What is the demographic profile of film on the Rock patrons?**\n",
    "\n",
    "**D. In what media outlet(s) should the film be advertised?**"
   ]
  },
  {
   "cell_type": "markdown",
   "id": "87b67f5f-d6f0-4e5a-a327-83ece3128cbe",
   "metadata": {},
   "source": [
    "### A. What is the overall level of customer satisfacion?"
   ]
  },
  {
   "cell_type": "code",
   "execution_count": 74,
   "id": "656dbab0-610f-40ef-90b2-fd4a279c7cb0",
   "metadata": {},
   "outputs": [],
   "source": [
    "films = pd.read_csv('Films.csv')"
   ]
  },
  {
   "cell_type": "code",
   "execution_count": 78,
   "id": "cfabde24-7035-4878-9bac-694357f39501",
   "metadata": {},
   "outputs": [
    {
     "data": {
      "text/html": [
       "<div>\n",
       "<style scoped>\n",
       "    .dataframe tbody tr th:only-of-type {\n",
       "        vertical-align: middle;\n",
       "    }\n",
       "\n",
       "    .dataframe tbody tr th {\n",
       "        vertical-align: top;\n",
       "    }\n",
       "\n",
       "    .dataframe thead th {\n",
       "        text-align: right;\n",
       "    }\n",
       "</style>\n",
       "<table border=\"1\" class=\"dataframe\">\n",
       "  <thead>\n",
       "    <tr style=\"text-align: right;\">\n",
       "      <th></th>\n",
       "      <th>_rowstate_</th>\n",
       "      <th>Movie</th>\n",
       "      <th>Gender</th>\n",
       "      <th>Marital_Status</th>\n",
       "      <th>Sinage</th>\n",
       "      <th>Parking</th>\n",
       "      <th>Clean</th>\n",
       "      <th>Overall</th>\n",
       "      <th>Age</th>\n",
       "      <th>Income</th>\n",
       "      <th>Hear_About</th>\n",
       "    </tr>\n",
       "  </thead>\n",
       "  <tbody>\n",
       "    <tr>\n",
       "      <th>0</th>\n",
       "      <td>0</td>\n",
       "      <td>Ferris Buellers Day Off</td>\n",
       "      <td>Female</td>\n",
       "      <td>Married</td>\n",
       "      <td>2.0</td>\n",
       "      <td>2.0</td>\n",
       "      <td>2.0</td>\n",
       "      <td>2.0</td>\n",
       "      <td>3.0</td>\n",
       "      <td>1.0</td>\n",
       "      <td>5</td>\n",
       "    </tr>\n",
       "    <tr>\n",
       "      <th>1</th>\n",
       "      <td>0</td>\n",
       "      <td>Ferris Buellers Day Off</td>\n",
       "      <td>Female</td>\n",
       "      <td>Single</td>\n",
       "      <td>1.0</td>\n",
       "      <td>1.0</td>\n",
       "      <td>1.0</td>\n",
       "      <td>1.0</td>\n",
       "      <td>2.0</td>\n",
       "      <td>1.0</td>\n",
       "      <td>5</td>\n",
       "    </tr>\n",
       "    <tr>\n",
       "      <th>2</th>\n",
       "      <td>0</td>\n",
       "      <td>Ferris Buellers Day Off</td>\n",
       "      <td>Male</td>\n",
       "      <td>Married</td>\n",
       "      <td>2.0</td>\n",
       "      <td>4.0</td>\n",
       "      <td>3.0</td>\n",
       "      <td>2.0</td>\n",
       "      <td>4.0</td>\n",
       "      <td>1.0</td>\n",
       "      <td>5</td>\n",
       "    </tr>\n",
       "    <tr>\n",
       "      <th>3</th>\n",
       "      <td>0</td>\n",
       "      <td>Ferris Buellers Day Off</td>\n",
       "      <td>Female</td>\n",
       "      <td>Married</td>\n",
       "      <td>1.0</td>\n",
       "      <td>3.0</td>\n",
       "      <td>2.0</td>\n",
       "      <td>2.0</td>\n",
       "      <td>4.0</td>\n",
       "      <td>1.0</td>\n",
       "      <td>5</td>\n",
       "    </tr>\n",
       "    <tr>\n",
       "      <th>4</th>\n",
       "      <td>0</td>\n",
       "      <td>Ferris Buellers Day Off</td>\n",
       "      <td>Female</td>\n",
       "      <td>Married</td>\n",
       "      <td>1.0</td>\n",
       "      <td>1.0</td>\n",
       "      <td>1.0</td>\n",
       "      <td>1.0</td>\n",
       "      <td>3.0</td>\n",
       "      <td>3.0</td>\n",
       "      <td>1</td>\n",
       "    </tr>\n",
       "    <tr>\n",
       "      <th>...</th>\n",
       "      <td>...</td>\n",
       "      <td>...</td>\n",
       "      <td>...</td>\n",
       "      <td>...</td>\n",
       "      <td>...</td>\n",
       "      <td>...</td>\n",
       "      <td>...</td>\n",
       "      <td>...</td>\n",
       "      <td>...</td>\n",
       "      <td>...</td>\n",
       "      <td>...</td>\n",
       "    </tr>\n",
       "    <tr>\n",
       "      <th>325</th>\n",
       "      <td>0</td>\n",
       "      <td>Old School</td>\n",
       "      <td>2</td>\n",
       "      <td>2</td>\n",
       "      <td>1.0</td>\n",
       "      <td>2.0</td>\n",
       "      <td>1.0</td>\n",
       "      <td>1.0</td>\n",
       "      <td>2.0</td>\n",
       "      <td>1.0</td>\n",
       "      <td>1</td>\n",
       "    </tr>\n",
       "    <tr>\n",
       "      <th>326</th>\n",
       "      <td>0</td>\n",
       "      <td>Old School</td>\n",
       "      <td>1</td>\n",
       "      <td>1</td>\n",
       "      <td>2.0</td>\n",
       "      <td>2.0</td>\n",
       "      <td>2.0</td>\n",
       "      <td>2.0</td>\n",
       "      <td>3.0</td>\n",
       "      <td>3.0</td>\n",
       "      <td>5</td>\n",
       "    </tr>\n",
       "    <tr>\n",
       "      <th>327</th>\n",
       "      <td>0</td>\n",
       "      <td>Old School</td>\n",
       "      <td>2</td>\n",
       "      <td>1</td>\n",
       "      <td>2.0</td>\n",
       "      <td>1.0</td>\n",
       "      <td>1.0</td>\n",
       "      <td>2.0</td>\n",
       "      <td>2.0</td>\n",
       "      <td>2.0</td>\n",
       "      <td>5</td>\n",
       "    </tr>\n",
       "    <tr>\n",
       "      <th>328</th>\n",
       "      <td>0</td>\n",
       "      <td>Old School</td>\n",
       "      <td>1</td>\n",
       "      <td>1</td>\n",
       "      <td>1.0</td>\n",
       "      <td>1.0</td>\n",
       "      <td>1.0</td>\n",
       "      <td>1.0</td>\n",
       "      <td>2.0</td>\n",
       "      <td>1.0</td>\n",
       "      <td>3</td>\n",
       "    </tr>\n",
       "    <tr>\n",
       "      <th>329</th>\n",
       "      <td>0</td>\n",
       "      <td>Old School</td>\n",
       "      <td>2</td>\n",
       "      <td>2</td>\n",
       "      <td>2.0</td>\n",
       "      <td>2.0</td>\n",
       "      <td>3.0</td>\n",
       "      <td>1.0</td>\n",
       "      <td>2.0</td>\n",
       "      <td>1.0</td>\n",
       "      <td>5</td>\n",
       "    </tr>\n",
       "  </tbody>\n",
       "</table>\n",
       "<p>330 rows × 11 columns</p>\n",
       "</div>"
      ],
      "text/plain": [
       "     _rowstate_                    Movie  Gender Marital_Status  Sinage  \\\n",
       "0             0  Ferris Buellers Day Off  Female        Married     2.0   \n",
       "1             0  Ferris Buellers Day Off  Female         Single     1.0   \n",
       "2             0  Ferris Buellers Day Off    Male        Married     2.0   \n",
       "3             0  Ferris Buellers Day Off  Female        Married     1.0   \n",
       "4             0  Ferris Buellers Day Off  Female        Married     1.0   \n",
       "..          ...                      ...     ...            ...     ...   \n",
       "325           0               Old School       2              2     1.0   \n",
       "326           0               Old School       1              1     2.0   \n",
       "327           0               Old School       2              1     2.0   \n",
       "328           0               Old School       1              1     1.0   \n",
       "329           0               Old School       2              2     2.0   \n",
       "\n",
       "     Parking  Clean  Overall  Age  Income Hear_About  \n",
       "0        2.0    2.0      2.0  3.0     1.0          5  \n",
       "1        1.0    1.0      1.0  2.0     1.0          5  \n",
       "2        4.0    3.0      2.0  4.0     1.0          5  \n",
       "3        3.0    2.0      2.0  4.0     1.0          5  \n",
       "4        1.0    1.0      1.0  3.0     3.0          1  \n",
       "..       ...    ...      ...  ...     ...        ...  \n",
       "325      2.0    1.0      1.0  2.0     1.0          1  \n",
       "326      2.0    2.0      2.0  3.0     3.0          5  \n",
       "327      1.0    1.0      2.0  2.0     2.0          5  \n",
       "328      1.0    1.0      1.0  2.0     1.0          3  \n",
       "329      2.0    3.0      1.0  2.0     1.0          5  \n",
       "\n",
       "[330 rows x 11 columns]"
      ]
     },
     "execution_count": 78,
     "metadata": {},
     "output_type": "execute_result"
    }
   ],
   "source": [
    "films"
   ]
  },
  {
   "cell_type": "code",
   "execution_count": 81,
   "id": "5c096e74-8ade-4414-a0af-fa9e4c8bd8c3",
   "metadata": {},
   "outputs": [],
   "source": [
    "# replace values\n",
    "films.Gender.replace({\"1\":\"Male\",\"2\":\"Female\"},inplace = True)\n",
    "films.Marital_Status.replace({\"1\":\"Married\",\"2\":\"Single\"},inplace = True)\n",
    "films.replace('Slngle','Single',inplace = True)"
   ]
  },
  {
   "cell_type": "code",
   "execution_count": 82,
   "id": "fb591337-6411-4ece-9488-b1c638f23d8d",
   "metadata": {},
   "outputs": [
    {
     "data": {
      "text/html": [
       "<div>\n",
       "<style scoped>\n",
       "    .dataframe tbody tr th:only-of-type {\n",
       "        vertical-align: middle;\n",
       "    }\n",
       "\n",
       "    .dataframe tbody tr th {\n",
       "        vertical-align: top;\n",
       "    }\n",
       "\n",
       "    .dataframe thead th {\n",
       "        text-align: right;\n",
       "    }\n",
       "</style>\n",
       "<table border=\"1\" class=\"dataframe\">\n",
       "  <thead>\n",
       "    <tr style=\"text-align: right;\">\n",
       "      <th></th>\n",
       "      <th>_rowstate_</th>\n",
       "      <th>Movie</th>\n",
       "      <th>Gender</th>\n",
       "      <th>Marital_Status</th>\n",
       "      <th>Sinage</th>\n",
       "      <th>Parking</th>\n",
       "      <th>Clean</th>\n",
       "      <th>Overall</th>\n",
       "      <th>Age</th>\n",
       "      <th>Income</th>\n",
       "      <th>Hear_About</th>\n",
       "    </tr>\n",
       "  </thead>\n",
       "  <tbody>\n",
       "    <tr>\n",
       "      <th>0</th>\n",
       "      <td>0</td>\n",
       "      <td>Ferris Buellers Day Off</td>\n",
       "      <td>Female</td>\n",
       "      <td>Married</td>\n",
       "      <td>2.0</td>\n",
       "      <td>2.0</td>\n",
       "      <td>2.0</td>\n",
       "      <td>2.0</td>\n",
       "      <td>3.0</td>\n",
       "      <td>1.0</td>\n",
       "      <td>5</td>\n",
       "    </tr>\n",
       "    <tr>\n",
       "      <th>1</th>\n",
       "      <td>0</td>\n",
       "      <td>Ferris Buellers Day Off</td>\n",
       "      <td>Female</td>\n",
       "      <td>Single</td>\n",
       "      <td>1.0</td>\n",
       "      <td>1.0</td>\n",
       "      <td>1.0</td>\n",
       "      <td>1.0</td>\n",
       "      <td>2.0</td>\n",
       "      <td>1.0</td>\n",
       "      <td>5</td>\n",
       "    </tr>\n",
       "    <tr>\n",
       "      <th>2</th>\n",
       "      <td>0</td>\n",
       "      <td>Ferris Buellers Day Off</td>\n",
       "      <td>Male</td>\n",
       "      <td>Married</td>\n",
       "      <td>2.0</td>\n",
       "      <td>4.0</td>\n",
       "      <td>3.0</td>\n",
       "      <td>2.0</td>\n",
       "      <td>4.0</td>\n",
       "      <td>1.0</td>\n",
       "      <td>5</td>\n",
       "    </tr>\n",
       "    <tr>\n",
       "      <th>3</th>\n",
       "      <td>0</td>\n",
       "      <td>Ferris Buellers Day Off</td>\n",
       "      <td>Female</td>\n",
       "      <td>Married</td>\n",
       "      <td>1.0</td>\n",
       "      <td>3.0</td>\n",
       "      <td>2.0</td>\n",
       "      <td>2.0</td>\n",
       "      <td>4.0</td>\n",
       "      <td>1.0</td>\n",
       "      <td>5</td>\n",
       "    </tr>\n",
       "    <tr>\n",
       "      <th>4</th>\n",
       "      <td>0</td>\n",
       "      <td>Ferris Buellers Day Off</td>\n",
       "      <td>Female</td>\n",
       "      <td>Married</td>\n",
       "      <td>1.0</td>\n",
       "      <td>1.0</td>\n",
       "      <td>1.0</td>\n",
       "      <td>1.0</td>\n",
       "      <td>3.0</td>\n",
       "      <td>3.0</td>\n",
       "      <td>1</td>\n",
       "    </tr>\n",
       "    <tr>\n",
       "      <th>...</th>\n",
       "      <td>...</td>\n",
       "      <td>...</td>\n",
       "      <td>...</td>\n",
       "      <td>...</td>\n",
       "      <td>...</td>\n",
       "      <td>...</td>\n",
       "      <td>...</td>\n",
       "      <td>...</td>\n",
       "      <td>...</td>\n",
       "      <td>...</td>\n",
       "      <td>...</td>\n",
       "    </tr>\n",
       "    <tr>\n",
       "      <th>325</th>\n",
       "      <td>0</td>\n",
       "      <td>Old School</td>\n",
       "      <td>Female</td>\n",
       "      <td>Single</td>\n",
       "      <td>1.0</td>\n",
       "      <td>2.0</td>\n",
       "      <td>1.0</td>\n",
       "      <td>1.0</td>\n",
       "      <td>2.0</td>\n",
       "      <td>1.0</td>\n",
       "      <td>1</td>\n",
       "    </tr>\n",
       "    <tr>\n",
       "      <th>326</th>\n",
       "      <td>0</td>\n",
       "      <td>Old School</td>\n",
       "      <td>Male</td>\n",
       "      <td>Married</td>\n",
       "      <td>2.0</td>\n",
       "      <td>2.0</td>\n",
       "      <td>2.0</td>\n",
       "      <td>2.0</td>\n",
       "      <td>3.0</td>\n",
       "      <td>3.0</td>\n",
       "      <td>5</td>\n",
       "    </tr>\n",
       "    <tr>\n",
       "      <th>327</th>\n",
       "      <td>0</td>\n",
       "      <td>Old School</td>\n",
       "      <td>Female</td>\n",
       "      <td>Married</td>\n",
       "      <td>2.0</td>\n",
       "      <td>1.0</td>\n",
       "      <td>1.0</td>\n",
       "      <td>2.0</td>\n",
       "      <td>2.0</td>\n",
       "      <td>2.0</td>\n",
       "      <td>5</td>\n",
       "    </tr>\n",
       "    <tr>\n",
       "      <th>328</th>\n",
       "      <td>0</td>\n",
       "      <td>Old School</td>\n",
       "      <td>Male</td>\n",
       "      <td>Married</td>\n",
       "      <td>1.0</td>\n",
       "      <td>1.0</td>\n",
       "      <td>1.0</td>\n",
       "      <td>1.0</td>\n",
       "      <td>2.0</td>\n",
       "      <td>1.0</td>\n",
       "      <td>3</td>\n",
       "    </tr>\n",
       "    <tr>\n",
       "      <th>329</th>\n",
       "      <td>0</td>\n",
       "      <td>Old School</td>\n",
       "      <td>Female</td>\n",
       "      <td>Single</td>\n",
       "      <td>2.0</td>\n",
       "      <td>2.0</td>\n",
       "      <td>3.0</td>\n",
       "      <td>1.0</td>\n",
       "      <td>2.0</td>\n",
       "      <td>1.0</td>\n",
       "      <td>5</td>\n",
       "    </tr>\n",
       "  </tbody>\n",
       "</table>\n",
       "<p>330 rows × 11 columns</p>\n",
       "</div>"
      ],
      "text/plain": [
       "     _rowstate_                    Movie  Gender Marital_Status  Sinage  \\\n",
       "0             0  Ferris Buellers Day Off  Female        Married     2.0   \n",
       "1             0  Ferris Buellers Day Off  Female         Single     1.0   \n",
       "2             0  Ferris Buellers Day Off    Male        Married     2.0   \n",
       "3             0  Ferris Buellers Day Off  Female        Married     1.0   \n",
       "4             0  Ferris Buellers Day Off  Female        Married     1.0   \n",
       "..          ...                      ...     ...            ...     ...   \n",
       "325           0               Old School  Female         Single     1.0   \n",
       "326           0               Old School    Male        Married     2.0   \n",
       "327           0               Old School  Female        Married     2.0   \n",
       "328           0               Old School    Male        Married     1.0   \n",
       "329           0               Old School  Female         Single     2.0   \n",
       "\n",
       "     Parking  Clean  Overall  Age  Income Hear_About  \n",
       "0        2.0    2.0      2.0  3.0     1.0          5  \n",
       "1        1.0    1.0      1.0  2.0     1.0          5  \n",
       "2        4.0    3.0      2.0  4.0     1.0          5  \n",
       "3        3.0    2.0      2.0  4.0     1.0          5  \n",
       "4        1.0    1.0      1.0  3.0     3.0          1  \n",
       "..       ...    ...      ...  ...     ...        ...  \n",
       "325      2.0    1.0      1.0  2.0     1.0          1  \n",
       "326      2.0    2.0      2.0  3.0     3.0          5  \n",
       "327      1.0    1.0      2.0  2.0     2.0          5  \n",
       "328      1.0    1.0      1.0  2.0     1.0          3  \n",
       "329      2.0    3.0      1.0  2.0     1.0          5  \n",
       "\n",
       "[330 rows x 11 columns]"
      ]
     },
     "execution_count": 82,
     "metadata": {},
     "output_type": "execute_result"
    }
   ],
   "source": [
    "films"
   ]
  },
  {
   "cell_type": "code",
   "execution_count": 83,
   "id": "ff163fab-ed4d-4ced-a314-2a1b6fc7dc8c",
   "metadata": {},
   "outputs": [
    {
     "data": {
      "text/plain": [
       "Overall\n",
       "2.0    160\n",
       "1.0    151\n",
       "3.0     12\n",
       "5.0      4\n",
       "4.0      1\n",
       "Name: count, dtype: int64"
      ]
     },
     "execution_count": 83,
     "metadata": {},
     "output_type": "execute_result"
    }
   ],
   "source": [
    "films.Overall.value_counts()"
   ]
  },
  {
   "cell_type": "code",
   "execution_count": 84,
   "id": "1d746590-8f5e-4664-b94b-32025fa9bce9",
   "metadata": {},
   "outputs": [
    {
     "data": {
      "image/png": "[encoded data removed]",
      "text/plain": [
       "<Figure size 640x480 with 1 Axes>"
      ]
     },
     "metadata": {},
     "output_type": "display_data"
    }
   ],
   "source": [
    "plt.hist(films.Overall)\n",
    "plt.xlabel(\"Overall Satisfaction\")\n",
    "plt.ylabel(\"Overall Customers Satisfaction Chart\")\n",
    "plt.show()"
   ]
  },
  {
   "cell_type": "markdown",
   "id": "fa2f9d6f-5675-47c3-8180-d60c281f673c",
   "metadata": {},
   "source": [
    "Here we can clearly saw that Overall level of customer's satisfcation is mostly 2 and 1 that means, on a given scale(in the question) customer's Overall Satisfaction is GOOD and EXCELLENT"
   ]
  },
  {
   "cell_type": "code",
   "execution_count": 85,
   "id": "b7151f82-a4ae-4167-86c3-6f42647422d9",
   "metadata": {},
   "outputs": [
    {
     "name": "stdout",
     "output_type": "stream",
     "text": [
      "Conclusion :\n",
      "Customer's Overall Satisfaction is GOOD and EXCELLENT\n"
     ]
    }
   ],
   "source": [
    "print(\"Conclusion :\")\n",
    "print(\"Customer's Overall Satisfaction is GOOD and EXCELLENT\")"
   ]
  },
  {
   "cell_type": "markdown",
   "id": "fb477c2d-c14c-4498-a746-408e5671feaf",
   "metadata": {},
   "source": [
    "**Taking columns SINAGE, PARKING and CLEAN one by one with col Overall in order to getthe factors that are affecting Customer's Satisfaction**"
   ]
  },
  {
   "cell_type": "markdown",
   "id": "16f0ce72-4de7-4130-ad5b-a8905942831e",
   "metadata": {},
   "source": [
    "**Situation 1 : checkin link between col Overall and Sinage**\n",
    "\n",
    "\n",
    "**Defining Null Hypothesis (H0)**\n",
    "\n",
    "\n",
    "**NO relation between Col Overall and Sinage**\n",
    "\n",
    "\n",
    "**Defining Alternate Hypothesis (H1)**\n",
    "\n",
    "\n",
    "**Relationship is Present between col Overall and Sinage**\n"
   ]
  },
  {
   "cell_type": "code",
   "execution_count": 86,
   "id": "b393bc47-33d2-42a4-80d6-f5a34598016d",
   "metadata": {},
   "outputs": [],
   "source": [
    "# Taking Confidence Level at 95%, and p-value 0.05\n",
    "# taking these two columns in a separate variable\n",
    "\n",
    "overall_and_single = pd.crosstab(index=films.Overall,columns=(films.Sinage))"
   ]
  },
  {
   "cell_type": "code",
   "execution_count": 87,
   "id": "b0b39c61-6f3c-4acf-83a5-c2ff40544fed",
   "metadata": {},
   "outputs": [
    {
     "data": {
      "text/plain": [
       "Chi2ContingencyResult(statistic=124.81695331531306, pvalue=6.47639805161236e-19, dof=16, expected_freq=array([[5.18348624e+01, 7.11009174e+01, 2.20183486e+01, 2.75229358e+00,\n",
       "        2.29357798e+00],\n",
       "       [5.52905199e+01, 7.58409786e+01, 2.34862385e+01, 2.93577982e+00,\n",
       "        2.44648318e+00],\n",
       "       [4.14678899e+00, 5.68807339e+00, 1.76146789e+00, 2.20183486e-01,\n",
       "        1.83486239e-01],\n",
       "       [3.45565749e-01, 4.74006116e-01, 1.46788991e-01, 1.83486239e-02,\n",
       "        1.52905199e-02],\n",
       "       [1.38226300e+00, 1.89602446e+00, 5.87155963e-01, 7.33944954e-02,\n",
       "        6.11620795e-02]]))"
      ]
     },
     "execution_count": 87,
     "metadata": {},
     "output_type": "execute_result"
    }
   ],
   "source": [
    "# As these two are categorical variable, so using chi-square test\n",
    "\n",
    "stats.chi2_contingency(overall_and_single)"
   ]
  },
  {
   "cell_type": "markdown",
   "id": "6a884c2f-3fa5-49cf-b23e-231e5d6e851e",
   "metadata": {},
   "source": [
    "**I got p-value smaller than 0.05 that means with 95% confidence, I reject the null hypothesis**"
   ]
  },
  {
   "cell_type": "markdown",
   "id": "96212830-1fdd-4951-9d6f-ae2b6c12ed0f",
   "metadata": {},
   "source": [
    "**Conclusion**\n",
    "\n",
    "**Relationship is Present between col Overall and Sinage**\n",
    "\n",
    "**Situation 2 :**\n",
    "\n",
    "**checkin link between col Overall and Parking**"
   ]
  },
  {
   "cell_type": "markdown",
   "id": "0564ae14-0c03-4bd6-a280-148adafa4d6c",
   "metadata": {},
   "source": [
    "**Defining Null Hypothesis (H0)**\n",
    "\n",
    "**NO relation between Col Overall and Parking**\n",
    "\n",
    "**Defining Alternate Hypothesis (H1)**\n",
    "\n",
    "**Relationship is Present between col Overall and Parking**"
   ]
  },
  {
   "cell_type": "code",
   "execution_count": 88,
   "id": "9981cd9b-aa13-47a4-afa6-1db507821b6c",
   "metadata": {},
   "outputs": [],
   "source": [
    "# Taking Confidence Level at 95%, and p-value 0.05\n",
    "overall_and_parking= pd.crosstab(index=films.Overall,columns=(films.Parking))"
   ]
  },
  {
   "cell_type": "code",
   "execution_count": 89,
   "id": "f339a7dd-35ce-4de7-bd5c-66a280618423",
   "metadata": {},
   "outputs": [
    {
     "data": {
      "text/plain": [
       "Chi2ContingencyResult(statistic=229.47943657632044, pvalue=8.162450437897989e-40, dof=16, expected_freq=array([[6.18776758e+01, 7.06513761e+01, 1.33914373e+01, 3.23241590e+00,\n",
       "        1.84709480e+00],\n",
       "       [6.51559633e+01, 7.43944954e+01, 1.41009174e+01, 3.40366972e+00,\n",
       "        1.94495413e+00],\n",
       "       [4.91743119e+00, 5.61467890e+00, 1.06422018e+00, 2.56880734e-01,\n",
       "        1.46788991e-01],\n",
       "       [4.09785933e-01, 4.67889908e-01, 8.86850153e-02, 2.14067278e-02,\n",
       "        1.22324159e-02],\n",
       "       [1.63914373e+00, 1.87155963e+00, 3.54740061e-01, 8.56269113e-02,\n",
       "        4.89296636e-02]]))"
      ]
     },
     "execution_count": 89,
     "metadata": {},
     "output_type": "execute_result"
    }
   ],
   "source": [
    "# As these two are categorical variable, so using chi-square test\n",
    "stats.chi2_contingency(overall_and_parking)"
   ]
  },
  {
   "cell_type": "markdown",
   "id": "162b114e-7ac0-43a5-8482-0bd951893843",
   "metadata": {},
   "source": [
    "**I got p-value smaller than 0.05 that means with 95% confidence, I reject the null hypothesis.**"
   ]
  },
  {
   "cell_type": "markdown",
   "id": "ed630f55-bb3f-4fd2-8ad4-bb79359a78ea",
   "metadata": {},
   "source": [
    "**Conclusion**\n",
    "  \n",
    "**Relationship is Present between col Overall and Parking**\n",
    "\n",
    "**Situation 3 :**\n",
    "    \n",
    "**checkin link between col Overall and Clean**\n",
    "\n",
    "**Defining Null Hypothesis (H0)**\n",
    "\n",
    "**NO relation between Col Overall and Clean**\n",
    "\n",
    "**Defining Alternate Hypothesis (H1)**\n",
    "\n",
    "**Relationship is Present between col Overall and Clean**"
   ]
  },
  {
   "cell_type": "code",
   "execution_count": 91,
   "id": "050e65df-d13b-41d2-9aed-a74c524e6e80",
   "metadata": {},
   "outputs": [
    {
     "data": {
      "text/plain": [
       "Chi2ContingencyResult(statistic=125.17708834561675, pvalue=5.517448379868074e-19, dof=16, expected_freq=array([[6.64954128e+01, 7.01896024e+01, 1.10825688e+01, 2.30886850e+00,\n",
       "        9.23547401e-01],\n",
       "       [7.00183486e+01, 7.39082569e+01, 1.16697248e+01, 2.43119266e+00,\n",
       "        9.72477064e-01],\n",
       "       [5.28440367e+00, 5.57798165e+00, 8.80733945e-01, 1.83486239e-01,\n",
       "        7.33944954e-02],\n",
       "       [4.40366972e-01, 4.64831804e-01, 7.33944954e-02, 1.52905199e-02,\n",
       "        6.11620795e-03],\n",
       "       [1.76146789e+00, 1.85932722e+00, 2.93577982e-01, 6.11620795e-02,\n",
       "        2.44648318e-02]]))"
      ]
     },
     "execution_count": 91,
     "metadata": {},
     "output_type": "execute_result"
    }
   ],
   "source": [
    "# Taking Confidence Level at 95%, and p-value 0.05\n",
    "# taking these two columns in a separate variable\n",
    "overall_and_clean =pd.crosstab(index=films.Overall,columns=(films.Clean))\n",
    "# As these two are categorical variable, so using chi-square test\n",
    "stats.chi2_contingency(overall_and_clean)"
   ]
  },
  {
   "cell_type": "markdown",
   "id": "586fbe3f-ee6d-4b05-bbe0-f08164c245b2",
   "metadata": {},
   "source": [
    "**I got p-value smaller than 0.05 that means with 95% confidence, I reject the null hypothesis.**"
   ]
  },
  {
   "cell_type": "markdown",
   "id": "1a77cf26-0834-43c8-8859-687afe1cc65c",
   "metadata": {},
   "source": [
    "**Final Conclusion**\n",
    "\n",
    "**What factors are linked to satisfaction?**\n",
    "\n",
    "**ANS -> There is a significant correlation between the overall satisfaction level and various factors such as Sinage, Cleaniness and Parking and these factors are responsible to affect the Overall Satisfaction of the Customer**"
   ]
  },
  {
   "cell_type": "markdown",
   "id": "26ba5b06-5bb0-46ed-b161-b3b436b7a454",
   "metadata": {},
   "source": [
    "**There is a significant correlation between the overall satisfaction level and various factors such as Sinage, Cleaniness and Parking and these factors are responsible to affect the Overall Satisfaction of the Customer**"
   ]
  },
  {
   "cell_type": "code",
   "execution_count": 108,
   "id": "2455feaf-11f6-4cb0-b36c-53122261baa0",
   "metadata": {},
   "outputs": [
    {
     "data": {
      "text/html": [
       "<div>\n",
       "<style scoped>\n",
       "    .dataframe tbody tr th:only-of-type {\n",
       "        vertical-align: middle;\n",
       "    }\n",
       "\n",
       "    .dataframe tbody tr th {\n",
       "        vertical-align: top;\n",
       "    }\n",
       "\n",
       "    .dataframe thead th {\n",
       "        text-align: right;\n",
       "    }\n",
       "</style>\n",
       "<table border=\"1\" class=\"dataframe\">\n",
       "  <thead>\n",
       "    <tr style=\"text-align: right;\">\n",
       "      <th></th>\n",
       "      <th>_rowstate_</th>\n",
       "      <th>Movie</th>\n",
       "      <th>Gender</th>\n",
       "      <th>Marital_Status</th>\n",
       "      <th>Sinage</th>\n",
       "      <th>Parking</th>\n",
       "      <th>Clean</th>\n",
       "      <th>Overall</th>\n",
       "      <th>Age</th>\n",
       "      <th>Income</th>\n",
       "      <th>Hear_About</th>\n",
       "    </tr>\n",
       "  </thead>\n",
       "  <tbody>\n",
       "    <tr>\n",
       "      <th>0</th>\n",
       "      <td>0</td>\n",
       "      <td>Ferris Buellers Day Off</td>\n",
       "      <td>Female</td>\n",
       "      <td>Married</td>\n",
       "      <td>2.0</td>\n",
       "      <td>2.0</td>\n",
       "      <td>2.0</td>\n",
       "      <td>2.0</td>\n",
       "      <td>3.0</td>\n",
       "      <td>1.0</td>\n",
       "      <td>5</td>\n",
       "    </tr>\n",
       "    <tr>\n",
       "      <th>1</th>\n",
       "      <td>0</td>\n",
       "      <td>Ferris Buellers Day Off</td>\n",
       "      <td>Female</td>\n",
       "      <td>Single</td>\n",
       "      <td>1.0</td>\n",
       "      <td>1.0</td>\n",
       "      <td>1.0</td>\n",
       "      <td>1.0</td>\n",
       "      <td>2.0</td>\n",
       "      <td>1.0</td>\n",
       "      <td>5</td>\n",
       "    </tr>\n",
       "    <tr>\n",
       "      <th>2</th>\n",
       "      <td>0</td>\n",
       "      <td>Ferris Buellers Day Off</td>\n",
       "      <td>Male</td>\n",
       "      <td>Married</td>\n",
       "      <td>2.0</td>\n",
       "      <td>4.0</td>\n",
       "      <td>3.0</td>\n",
       "      <td>2.0</td>\n",
       "      <td>4.0</td>\n",
       "      <td>1.0</td>\n",
       "      <td>5</td>\n",
       "    </tr>\n",
       "    <tr>\n",
       "      <th>3</th>\n",
       "      <td>0</td>\n",
       "      <td>Ferris Buellers Day Off</td>\n",
       "      <td>Female</td>\n",
       "      <td>Married</td>\n",
       "      <td>1.0</td>\n",
       "      <td>3.0</td>\n",
       "      <td>2.0</td>\n",
       "      <td>2.0</td>\n",
       "      <td>4.0</td>\n",
       "      <td>1.0</td>\n",
       "      <td>5</td>\n",
       "    </tr>\n",
       "    <tr>\n",
       "      <th>4</th>\n",
       "      <td>0</td>\n",
       "      <td>Ferris Buellers Day Off</td>\n",
       "      <td>Female</td>\n",
       "      <td>Married</td>\n",
       "      <td>1.0</td>\n",
       "      <td>1.0</td>\n",
       "      <td>1.0</td>\n",
       "      <td>1.0</td>\n",
       "      <td>3.0</td>\n",
       "      <td>3.0</td>\n",
       "      <td>1</td>\n",
       "    </tr>\n",
       "    <tr>\n",
       "      <th>...</th>\n",
       "      <td>...</td>\n",
       "      <td>...</td>\n",
       "      <td>...</td>\n",
       "      <td>...</td>\n",
       "      <td>...</td>\n",
       "      <td>...</td>\n",
       "      <td>...</td>\n",
       "      <td>...</td>\n",
       "      <td>...</td>\n",
       "      <td>...</td>\n",
       "      <td>...</td>\n",
       "    </tr>\n",
       "    <tr>\n",
       "      <th>325</th>\n",
       "      <td>0</td>\n",
       "      <td>Old School</td>\n",
       "      <td>Female</td>\n",
       "      <td>Single</td>\n",
       "      <td>1.0</td>\n",
       "      <td>2.0</td>\n",
       "      <td>1.0</td>\n",
       "      <td>1.0</td>\n",
       "      <td>2.0</td>\n",
       "      <td>1.0</td>\n",
       "      <td>1</td>\n",
       "    </tr>\n",
       "    <tr>\n",
       "      <th>326</th>\n",
       "      <td>0</td>\n",
       "      <td>Old School</td>\n",
       "      <td>Male</td>\n",
       "      <td>Married</td>\n",
       "      <td>2.0</td>\n",
       "      <td>2.0</td>\n",
       "      <td>2.0</td>\n",
       "      <td>2.0</td>\n",
       "      <td>3.0</td>\n",
       "      <td>3.0</td>\n",
       "      <td>5</td>\n",
       "    </tr>\n",
       "    <tr>\n",
       "      <th>327</th>\n",
       "      <td>0</td>\n",
       "      <td>Old School</td>\n",
       "      <td>Female</td>\n",
       "      <td>Married</td>\n",
       "      <td>2.0</td>\n",
       "      <td>1.0</td>\n",
       "      <td>1.0</td>\n",
       "      <td>2.0</td>\n",
       "      <td>2.0</td>\n",
       "      <td>2.0</td>\n",
       "      <td>5</td>\n",
       "    </tr>\n",
       "    <tr>\n",
       "      <th>328</th>\n",
       "      <td>0</td>\n",
       "      <td>Old School</td>\n",
       "      <td>Male</td>\n",
       "      <td>Married</td>\n",
       "      <td>1.0</td>\n",
       "      <td>1.0</td>\n",
       "      <td>1.0</td>\n",
       "      <td>1.0</td>\n",
       "      <td>2.0</td>\n",
       "      <td>1.0</td>\n",
       "      <td>3</td>\n",
       "    </tr>\n",
       "    <tr>\n",
       "      <th>329</th>\n",
       "      <td>0</td>\n",
       "      <td>Old School</td>\n",
       "      <td>Female</td>\n",
       "      <td>Single</td>\n",
       "      <td>2.0</td>\n",
       "      <td>2.0</td>\n",
       "      <td>3.0</td>\n",
       "      <td>1.0</td>\n",
       "      <td>2.0</td>\n",
       "      <td>1.0</td>\n",
       "      <td>5</td>\n",
       "    </tr>\n",
       "  </tbody>\n",
       "</table>\n",
       "<p>330 rows × 11 columns</p>\n",
       "</div>"
      ],
      "text/plain": [
       "     _rowstate_                    Movie  Gender Marital_Status  Sinage  \\\n",
       "0             0  Ferris Buellers Day Off  Female        Married     2.0   \n",
       "1             0  Ferris Buellers Day Off  Female         Single     1.0   \n",
       "2             0  Ferris Buellers Day Off    Male        Married     2.0   \n",
       "3             0  Ferris Buellers Day Off  Female        Married     1.0   \n",
       "4             0  Ferris Buellers Day Off  Female        Married     1.0   \n",
       "..          ...                      ...     ...            ...     ...   \n",
       "325           0               Old School  Female         Single     1.0   \n",
       "326           0               Old School    Male        Married     2.0   \n",
       "327           0               Old School  Female        Married     2.0   \n",
       "328           0               Old School    Male        Married     1.0   \n",
       "329           0               Old School  Female         Single     2.0   \n",
       "\n",
       "     Parking  Clean  Overall  Age  Income Hear_About  \n",
       "0        2.0    2.0      2.0  3.0     1.0          5  \n",
       "1        1.0    1.0      1.0  2.0     1.0          5  \n",
       "2        4.0    3.0      2.0  4.0     1.0          5  \n",
       "3        3.0    2.0      2.0  4.0     1.0          5  \n",
       "4        1.0    1.0      1.0  3.0     3.0          1  \n",
       "..       ...    ...      ...  ...     ...        ...  \n",
       "325      2.0    1.0      1.0  2.0     1.0          1  \n",
       "326      2.0    2.0      2.0  3.0     3.0          5  \n",
       "327      1.0    1.0      2.0  2.0     2.0          5  \n",
       "328      1.0    1.0      1.0  2.0     1.0          3  \n",
       "329      2.0    3.0      1.0  2.0     1.0          5  \n",
       "\n",
       "[330 rows x 11 columns]"
      ]
     },
     "execution_count": 108,
     "metadata": {},
     "output_type": "execute_result"
    }
   ],
   "source": [
    "films"
   ]
  },
  {
   "cell_type": "code",
   "execution_count": 109,
   "id": "2b892e6a-2b50-4b87-9a0e-70902b8f7e52",
   "metadata": {},
   "outputs": [
    {
     "data": {
      "text/plain": [
       "Gender\n",
       "Female    213\n",
       "Male      117\n",
       "Name: count, dtype: int64"
      ]
     },
     "execution_count": 109,
     "metadata": {},
     "output_type": "execute_result"
    }
   ],
   "source": [
    "# Taking counts of Gender\n",
    "films.Gender.value_counts()"
   ]
  },
  {
   "cell_type": "code",
   "execution_count": 110,
   "id": "3f782dde-9165-4b3a-8fa1-2450e1b42c33",
   "metadata": {},
   "outputs": [
    {
     "data": {
      "text/plain": [
       "64.54545454545455"
      ]
     },
     "execution_count": 110,
     "metadata": {},
     "output_type": "execute_result"
    }
   ],
   "source": [
    "# Female Percentage\n",
    "213/films.shape[0]*100"
   ]
  },
  {
   "cell_type": "code",
   "execution_count": 111,
   "id": "46d9bb6f-5cfb-45bb-ad56-ab49841a0bb2",
   "metadata": {},
   "outputs": [
    {
     "data": {
      "text/plain": [
       "35.45454545454545"
      ]
     },
     "execution_count": 111,
     "metadata": {},
     "output_type": "execute_result"
    }
   ],
   "source": [
    "# Male percentage\n",
    "117/films.shape[0]*100"
   ]
  },
  {
   "cell_type": "code",
   "execution_count": 112,
   "id": "ae9b2d69-d053-4582-96fa-402bbb9fcd39",
   "metadata": {},
   "outputs": [
    {
     "data": {
      "text/plain": [
       "Marital_Status\n",
       "Single     228\n",
       "Married    100\n",
       "Name: count, dtype: int64"
      ]
     },
     "execution_count": 112,
     "metadata": {},
     "output_type": "execute_result"
    }
   ],
   "source": [
    "# Taking counts of Marital_Status\n",
    "films.Marital_Status.value_counts()"
   ]
  },
  {
   "cell_type": "code",
   "execution_count": 113,
   "id": "782e1a7e-b1a8-4b65-b051-3e4664010d69",
   "metadata": {},
   "outputs": [
    {
     "data": {
      "text/plain": [
       "69.0909090909091"
      ]
     },
     "execution_count": 113,
     "metadata": {},
     "output_type": "execute_result"
    }
   ],
   "source": [
    "# taking percentage of Marital_Status\n",
    "# Singles Percentage\n",
    "228/films.shape[0]*100"
   ]
  },
  {
   "cell_type": "code",
   "execution_count": 114,
   "id": "3dc1bfda-c6cc-419d-abb6-5ed3d9b9770f",
   "metadata": {},
   "outputs": [
    {
     "data": {
      "text/plain": [
       "30.303030303030305"
      ]
     },
     "execution_count": 114,
     "metadata": {},
     "output_type": "execute_result"
    }
   ],
   "source": [
    "# Married Percentage\n",
    "100/films.shape[0]*100"
   ]
  },
  {
   "cell_type": "code",
   "execution_count": 115,
   "id": "25672bb7-8580-44fa-acb2-a51df5ff8e71",
   "metadata": {},
   "outputs": [
    {
     "data": {
      "text/plain": [
       "Age\n",
       "2.0    175\n",
       "3.0    117\n",
       "1.0     26\n",
       "4.0     10\n",
       "Name: count, dtype: int64"
      ]
     },
     "execution_count": 115,
     "metadata": {},
     "output_type": "execute_result"
    }
   ],
   "source": [
    "# Taking most likely age group\n",
    "films.Age.value_counts()"
   ]
  },
  {
   "cell_type": "code",
   "execution_count": 116,
   "id": "1f5e30a7-3ba9-42b1-b8cf-c0dd38cb7271",
   "metadata": {},
   "outputs": [
    {
     "data": {
      "text/plain": [
       "Income\n",
       "1.0    142\n",
       "3.0     90\n",
       "2.0     82\n",
       "Name: count, dtype: int64"
      ]
     },
     "execution_count": 116,
     "metadata": {},
     "output_type": "execute_result"
    }
   ],
   "source": [
    "# Taking most likely Income group\n",
    "films.Income.value_counts()\n"
   ]
  },
  {
   "cell_type": "code",
   "execution_count": 117,
   "id": "76e184b8-dbff-4b1b-9b09-fcd15c2be597",
   "metadata": {},
   "outputs": [
    {
     "name": "stdout",
     "output_type": "stream",
     "text": [
      "         Demographic Profile of Film on the Rocks Patrons :\n",
      " \n",
      "There are Total of 213 (64.5%) Female Profiles on The Rock Patrons \n",
      "There are Total of 117 (35.5%) Males Profile on The Rock Patrons\n",
      "There are Total of 228 (69.9%) Single Profiles on The Rock Patrons\n",
      "There are Total of 100 (30.1%) Married Profiles on The Rock Patrons\n",
      "There are More People from Age group 2 (13-30 years) on The Rock Patrons\n",
      "There are More People with Income group 1 (Less than $50,000) on The Rock Patrons\n"
     ]
    }
   ],
   "source": [
    "print(\"         Demographic Profile of Film on the Rocks Patrons :\")\n",
    "print(\" \")\n",
    "print(\"There are Total of 213 (64.5%) Female Profiles on The Rock Patrons \")\n",
    "print(\"There are Total of 117 (35.5%) Males Profile on The Rock Patrons\")\n",
    "print(\"There are Total of 228 (69.9%) Single Profiles on The Rock Patrons\")\n",
    "print(\"There are Total of 100 (30.1%) Married Profiles on The Rock Patrons\")\n",
    "print(\"There are More People from Age group 2 (13-30 years) on The Rock Patrons\")\n",
    "print(\"There are More People with Income group 1 (Less than $50,000) on The Rock Patrons\")"
   ]
  },
  {
   "cell_type": "code",
   "execution_count": 118,
   "id": "fc526c95-07f4-41c2-ba83-61caec354edc",
   "metadata": {},
   "outputs": [
    {
     "data": {
      "text/html": [
       "<div>\n",
       "<style scoped>\n",
       "    .dataframe tbody tr th:only-of-type {\n",
       "        vertical-align: middle;\n",
       "    }\n",
       "\n",
       "    .dataframe tbody tr th {\n",
       "        vertical-align: top;\n",
       "    }\n",
       "\n",
       "    .dataframe thead th {\n",
       "        text-align: right;\n",
       "    }\n",
       "</style>\n",
       "<table border=\"1\" class=\"dataframe\">\n",
       "  <thead>\n",
       "    <tr style=\"text-align: right;\">\n",
       "      <th></th>\n",
       "      <th>_rowstate_</th>\n",
       "      <th>Movie</th>\n",
       "      <th>Gender</th>\n",
       "      <th>Marital_Status</th>\n",
       "      <th>Sinage</th>\n",
       "      <th>Parking</th>\n",
       "      <th>Clean</th>\n",
       "      <th>Overall</th>\n",
       "      <th>Age</th>\n",
       "      <th>Income</th>\n",
       "      <th>Hear_About</th>\n",
       "    </tr>\n",
       "  </thead>\n",
       "  <tbody>\n",
       "    <tr>\n",
       "      <th>0</th>\n",
       "      <td>0</td>\n",
       "      <td>Ferris Buellers Day Off</td>\n",
       "      <td>Female</td>\n",
       "      <td>Married</td>\n",
       "      <td>2.0</td>\n",
       "      <td>2.0</td>\n",
       "      <td>2.0</td>\n",
       "      <td>2.0</td>\n",
       "      <td>3.0</td>\n",
       "      <td>1.0</td>\n",
       "      <td>5</td>\n",
       "    </tr>\n",
       "    <tr>\n",
       "      <th>1</th>\n",
       "      <td>0</td>\n",
       "      <td>Ferris Buellers Day Off</td>\n",
       "      <td>Female</td>\n",
       "      <td>Single</td>\n",
       "      <td>1.0</td>\n",
       "      <td>1.0</td>\n",
       "      <td>1.0</td>\n",
       "      <td>1.0</td>\n",
       "      <td>2.0</td>\n",
       "      <td>1.0</td>\n",
       "      <td>5</td>\n",
       "    </tr>\n",
       "    <tr>\n",
       "      <th>2</th>\n",
       "      <td>0</td>\n",
       "      <td>Ferris Buellers Day Off</td>\n",
       "      <td>Male</td>\n",
       "      <td>Married</td>\n",
       "      <td>2.0</td>\n",
       "      <td>4.0</td>\n",
       "      <td>3.0</td>\n",
       "      <td>2.0</td>\n",
       "      <td>4.0</td>\n",
       "      <td>1.0</td>\n",
       "      <td>5</td>\n",
       "    </tr>\n",
       "    <tr>\n",
       "      <th>3</th>\n",
       "      <td>0</td>\n",
       "      <td>Ferris Buellers Day Off</td>\n",
       "      <td>Female</td>\n",
       "      <td>Married</td>\n",
       "      <td>1.0</td>\n",
       "      <td>3.0</td>\n",
       "      <td>2.0</td>\n",
       "      <td>2.0</td>\n",
       "      <td>4.0</td>\n",
       "      <td>1.0</td>\n",
       "      <td>5</td>\n",
       "    </tr>\n",
       "    <tr>\n",
       "      <th>4</th>\n",
       "      <td>0</td>\n",
       "      <td>Ferris Buellers Day Off</td>\n",
       "      <td>Female</td>\n",
       "      <td>Married</td>\n",
       "      <td>1.0</td>\n",
       "      <td>1.0</td>\n",
       "      <td>1.0</td>\n",
       "      <td>1.0</td>\n",
       "      <td>3.0</td>\n",
       "      <td>3.0</td>\n",
       "      <td>1</td>\n",
       "    </tr>\n",
       "    <tr>\n",
       "      <th>...</th>\n",
       "      <td>...</td>\n",
       "      <td>...</td>\n",
       "      <td>...</td>\n",
       "      <td>...</td>\n",
       "      <td>...</td>\n",
       "      <td>...</td>\n",
       "      <td>...</td>\n",
       "      <td>...</td>\n",
       "      <td>...</td>\n",
       "      <td>...</td>\n",
       "      <td>...</td>\n",
       "    </tr>\n",
       "    <tr>\n",
       "      <th>325</th>\n",
       "      <td>0</td>\n",
       "      <td>Old School</td>\n",
       "      <td>Female</td>\n",
       "      <td>Single</td>\n",
       "      <td>1.0</td>\n",
       "      <td>2.0</td>\n",
       "      <td>1.0</td>\n",
       "      <td>1.0</td>\n",
       "      <td>2.0</td>\n",
       "      <td>1.0</td>\n",
       "      <td>1</td>\n",
       "    </tr>\n",
       "    <tr>\n",
       "      <th>326</th>\n",
       "      <td>0</td>\n",
       "      <td>Old School</td>\n",
       "      <td>Male</td>\n",
       "      <td>Married</td>\n",
       "      <td>2.0</td>\n",
       "      <td>2.0</td>\n",
       "      <td>2.0</td>\n",
       "      <td>2.0</td>\n",
       "      <td>3.0</td>\n",
       "      <td>3.0</td>\n",
       "      <td>5</td>\n",
       "    </tr>\n",
       "    <tr>\n",
       "      <th>327</th>\n",
       "      <td>0</td>\n",
       "      <td>Old School</td>\n",
       "      <td>Female</td>\n",
       "      <td>Married</td>\n",
       "      <td>2.0</td>\n",
       "      <td>1.0</td>\n",
       "      <td>1.0</td>\n",
       "      <td>2.0</td>\n",
       "      <td>2.0</td>\n",
       "      <td>2.0</td>\n",
       "      <td>5</td>\n",
       "    </tr>\n",
       "    <tr>\n",
       "      <th>328</th>\n",
       "      <td>0</td>\n",
       "      <td>Old School</td>\n",
       "      <td>Male</td>\n",
       "      <td>Married</td>\n",
       "      <td>1.0</td>\n",
       "      <td>1.0</td>\n",
       "      <td>1.0</td>\n",
       "      <td>1.0</td>\n",
       "      <td>2.0</td>\n",
       "      <td>1.0</td>\n",
       "      <td>3</td>\n",
       "    </tr>\n",
       "    <tr>\n",
       "      <th>329</th>\n",
       "      <td>0</td>\n",
       "      <td>Old School</td>\n",
       "      <td>Female</td>\n",
       "      <td>Single</td>\n",
       "      <td>2.0</td>\n",
       "      <td>2.0</td>\n",
       "      <td>3.0</td>\n",
       "      <td>1.0</td>\n",
       "      <td>2.0</td>\n",
       "      <td>1.0</td>\n",
       "      <td>5</td>\n",
       "    </tr>\n",
       "  </tbody>\n",
       "</table>\n",
       "<p>330 rows × 11 columns</p>\n",
       "</div>"
      ],
      "text/plain": [
       "     _rowstate_                    Movie  Gender Marital_Status  Sinage  \\\n",
       "0             0  Ferris Buellers Day Off  Female        Married     2.0   \n",
       "1             0  Ferris Buellers Day Off  Female         Single     1.0   \n",
       "2             0  Ferris Buellers Day Off    Male        Married     2.0   \n",
       "3             0  Ferris Buellers Day Off  Female        Married     1.0   \n",
       "4             0  Ferris Buellers Day Off  Female        Married     1.0   \n",
       "..          ...                      ...     ...            ...     ...   \n",
       "325           0               Old School  Female         Single     1.0   \n",
       "326           0               Old School    Male        Married     2.0   \n",
       "327           0               Old School  Female        Married     2.0   \n",
       "328           0               Old School    Male        Married     1.0   \n",
       "329           0               Old School  Female         Single     2.0   \n",
       "\n",
       "     Parking  Clean  Overall  Age  Income Hear_About  \n",
       "0        2.0    2.0      2.0  3.0     1.0          5  \n",
       "1        1.0    1.0      1.0  2.0     1.0          5  \n",
       "2        4.0    3.0      2.0  4.0     1.0          5  \n",
       "3        3.0    2.0      2.0  4.0     1.0          5  \n",
       "4        1.0    1.0      1.0  3.0     3.0          1  \n",
       "..       ...    ...      ...  ...     ...        ...  \n",
       "325      2.0    1.0      1.0  2.0     1.0          1  \n",
       "326      2.0    2.0      2.0  3.0     3.0          5  \n",
       "327      1.0    1.0      2.0  2.0     2.0          5  \n",
       "328      1.0    1.0      1.0  2.0     1.0          3  \n",
       "329      2.0    3.0      1.0  2.0     1.0          5  \n",
       "\n",
       "[330 rows x 11 columns]"
      ]
     },
     "execution_count": 118,
     "metadata": {},
     "output_type": "execute_result"
    }
   ],
   "source": [
    "films"
   ]
  },
  {
   "cell_type": "code",
   "execution_count": 119,
   "id": "b6867009-c16f-4568-a31c-a609f7ea32a8",
   "metadata": {},
   "outputs": [
    {
     "data": {
      "text/plain": [
       "Hear_About\n",
       "5      226\n",
       "4       41\n",
       "1       22\n",
       "3       14\n",
       "2       12\n",
       "2,5      2\n",
       "3,4      2\n",
       "4,5      1\n",
       "1,5      1\n",
       "5,4      1\n",
       "3,5      1\n",
       "Name: count, dtype: int64"
      ]
     },
     "execution_count": 119,
     "metadata": {},
     "output_type": "execute_result"
    }
   ],
   "source": [
    "films.Hear_About.value_counts()"
   ]
  },
  {
   "cell_type": "code",
   "execution_count": 120,
   "id": "14622ecc-73a5-4347-9161-d6b735bb7e51",
   "metadata": {},
   "outputs": [],
   "source": [
    "# As we have mentioned the Hear About range in the Data Available Column in Business Problem as : \n",
    "    #1 = television; 2 =newspaper; 3 = radio; 4 = website; 5 = word of mouth\n",
    "\n",
    "# And we have multiple instances where Hear_about value is given as (2,5),(3,4),(4,5)...etc\n",
    "    # and many these values have 5 in it and also the maximum occurance out of these numbers is also 5\n",
    "    # So, replacing (2,5),(3,4),(4,5)...etc these values with 5\n",
    "    \n",
    "films.Hear_About.replace({'1,5':'5','2,5':'5', '3,4':'5','3,5':'5', '4,5':'5','5,4':'5'}, inplace=True)"
   ]
  },
  {
   "cell_type": "code",
   "execution_count": 121,
   "id": "3bd1698d-0d7e-46a8-9ad6-c8cff3f016e1",
   "metadata": {},
   "outputs": [
    {
     "data": {
      "text/plain": [
       "Hear_About\n",
       "5    234\n",
       "4     41\n",
       "1     22\n",
       "3     14\n",
       "2     12\n",
       "Name: count, dtype: int64"
      ]
     },
     "execution_count": 121,
     "metadata": {},
     "output_type": "execute_result"
    }
   ],
   "source": [
    "films.Hear_About.value_counts()"
   ]
  },
  {
   "cell_type": "code",
   "execution_count": 123,
   "id": "43980567-9faf-42cf-b9f8-dc386a76fa0c",
   "metadata": {},
   "outputs": [],
   "source": [
    "#Converting Hear_about col to float to make a histogram chart \n",
    "films.Hear_About=films.Hear_About.astype(\"float\")"
   ]
  },
  {
   "cell_type": "code",
   "execution_count": 124,
   "id": "a6a31990-9e41-40b6-bc8e-8441dfd93b8b",
   "metadata": {},
   "outputs": [
    {
     "data": {
      "image/png": "[encoded data removed]",
      "text/plain": [
       "<Figure size 640x480 with 1 Axes>"
      ]
     },
     "metadata": {},
     "output_type": "display_data"
    }
   ],
   "source": [
    "plt.hist(films.Hear_About)\n",
    "plt.xlabel('Range')\n",
    "plt.ylabel('Frequency')\n",
    "plt.title('Hear About Chart')\n",
    "plt.show()"
   ]
  },
  {
   "cell_type": "code",
   "execution_count": 125,
   "id": "22ed84a0-3260-422c-aa5c-ce59f648b910",
   "metadata": {},
   "outputs": [
    {
     "name": "stdout",
     "output_type": "stream",
     "text": [
      "The Best Media Outlets to Advertise the film series should be WEBSITE and TELEVISION\n"
     ]
    }
   ],
   "source": [
    "# we have got the 5 (Word  of moth) with maximum frequency but it does not comes under media category\n",
    "# So, taking the next category i.e, 4 (Website)  with second highest frequency and category 1 i.e, (Television) as the BEst media Outlet to advertise \n",
    "print(\"The Best Media Outlets to Advertise the film series should be WEBSITE and TELEVISION\")"
   ]
  },
  {
   "cell_type": "code",
   "execution_count": null,
   "id": "61f28fa6-bec9-42a4-9788-143a8aa19f0f",
   "metadata": {},
   "outputs": [],
   "source": []
  }
 ],
 "metadata": {
  "kernelspec": {
   "display_name": "Python 3 (ipykernel)",
   "language": "python",
   "name": "python3"
  },
  "language_info": {
   "codemirror_mode": {
    "name": "ipython",
    "version": 3
   },
   "file_extension": ".py",
   "mimetype": "text/x-python",
   "name": "python",
   "nbconvert_exporter": "python",
   "pygments_lexer": "ipython3",
   "version": "3.11.7"
  }
 },
 "nbformat": 4,
 "nbformat_minor": 5
}
